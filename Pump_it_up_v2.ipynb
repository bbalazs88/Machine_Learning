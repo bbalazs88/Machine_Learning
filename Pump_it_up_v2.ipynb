{
 "cells": [
  {
   "cell_type": "markdown",
   "metadata": {},
   "source": [
    "# Pump it up - Data mining the water table\n",
    "#### https://www.drivendata.org/competitions/7/pump-it-up-data-mining-the-water-table/\n",
    "Best score on DrivenData: 80.35%, current rank: 1407 / 8295. \n",
    "The current best accuracy is 82.86% in 01. 2020.\n",
    "\n",
    "### Balazs Balogh - 01. 2020."
   ]
  },
  {
   "cell_type": "code",
   "execution_count": 1,
   "metadata": {},
   "outputs": [],
   "source": [
    "\"\"\"\n",
    "Import the packages.\n",
    "\"\"\"\n",
    "\n",
    "import pandas as pd\n",
    "import numpy as np\n",
    "\n",
    "import matplotlib.pyplot as plt\n",
    "import seaborn as sns\n",
    "\n",
    "from sklearn.linear_model import LogisticRegression\n",
    "from sklearn.ensemble import GradientBoostingClassifier\n",
    "from sklearn.ensemble import VotingClassifier\n",
    "\n",
    "from sklearn.experimental import enable_hist_gradient_boosting  # explicitly require this experimental feature\n",
    "from sklearn.ensemble import HistGradientBoostingClassifier # now you can import normally from ensemble\n",
    "\n",
    "from sklearn import tree, ensemble, metrics, svm\n",
    "from xgboost import *\n",
    "from xgboost import XGBClassifier\n",
    "\n",
    "from sklearn.pipeline import make_pipeline\n",
    "from sklearn.metrics import accuracy_score\n",
    "from sklearn.preprocessing import StandardScaler\n",
    "from sklearn.model_selection import train_test_split, cross_val_score, GridSearchCV, RepeatedStratifiedKFold, RandomizedSearchCV\n",
    "from sklearn.decomposition import PCA\n",
    "from sklearn.utils import class_weight\n",
    "\n",
    "from lightgbm import LGBMClassifier\n",
    "\n",
    "import tensorflow as tf\n",
    "from tensorflow.keras.models import load_model\n",
    "from tensorflow.keras.models import Sequential\n",
    "from tensorflow.keras.layers import Dense\n",
    "from tensorflow.keras.wrappers.scikit_learn import KerasClassifier\n",
    "\n",
    "pd.set_option('display.max_columns', 50)"
   ]
  },
  {
   "cell_type": "code",
   "execution_count": 2,
   "metadata": {},
   "outputs": [],
   "source": [
    "\"\"\"\n",
    "Import the datasets, concatenate them, and encode the 'status_group' column to numerical for the ML model.\n",
    "\"\"\"\n",
    "\n",
    "X_train = pd.read_csv('https://raw.githubusercontent.com/budapestpy-workshops/workshops/master/09_pump_it_up/Training_set_values.csv')\n",
    "y_train = pd.read_csv('https://raw.githubusercontent.com/budapestpy-workshops/workshops/master/09_pump_it_up/Training_set_labels.csv')\n",
    "\n",
    "data = X_train.merge(y_train, on='id')\n",
    "\n",
    "label_dict = {\"functional\" : 2, \"functional needs repair\" : 1, \"non functional\" : 0}\n",
    "data[\"label\"] = data[\"status_group\"].map(label_dict)"
   ]
  },
  {
   "cell_type": "code",
   "execution_count": 3,
   "metadata": {},
   "outputs": [
    {
     "data": {
      "text/html": [
       "<div>\n",
       "<style scoped>\n",
       "    .dataframe tbody tr th:only-of-type {\n",
       "        vertical-align: middle;\n",
       "    }\n",
       "\n",
       "    .dataframe tbody tr th {\n",
       "        vertical-align: top;\n",
       "    }\n",
       "\n",
       "    .dataframe thead th {\n",
       "        text-align: right;\n",
       "    }\n",
       "</style>\n",
       "<table border=\"1\" class=\"dataframe\">\n",
       "  <thead>\n",
       "    <tr style=\"text-align: right;\">\n",
       "      <th></th>\n",
       "      <th>id</th>\n",
       "      <th>amount_tsh</th>\n",
       "      <th>date_recorded</th>\n",
       "      <th>funder</th>\n",
       "      <th>gps_height</th>\n",
       "      <th>installer</th>\n",
       "      <th>longitude</th>\n",
       "      <th>latitude</th>\n",
       "      <th>wpt_name</th>\n",
       "      <th>num_private</th>\n",
       "      <th>basin</th>\n",
       "      <th>subvillage</th>\n",
       "      <th>region</th>\n",
       "      <th>region_code</th>\n",
       "      <th>district_code</th>\n",
       "      <th>lga</th>\n",
       "      <th>ward</th>\n",
       "      <th>population</th>\n",
       "      <th>public_meeting</th>\n",
       "      <th>recorded_by</th>\n",
       "      <th>scheme_management</th>\n",
       "      <th>scheme_name</th>\n",
       "      <th>permit</th>\n",
       "      <th>construction_year</th>\n",
       "      <th>extraction_type</th>\n",
       "      <th>extraction_type_group</th>\n",
       "      <th>extraction_type_class</th>\n",
       "      <th>management</th>\n",
       "      <th>management_group</th>\n",
       "      <th>payment</th>\n",
       "      <th>payment_type</th>\n",
       "      <th>water_quality</th>\n",
       "      <th>quality_group</th>\n",
       "      <th>quantity</th>\n",
       "      <th>quantity_group</th>\n",
       "      <th>source</th>\n",
       "      <th>source_type</th>\n",
       "      <th>source_class</th>\n",
       "      <th>waterpoint_type</th>\n",
       "      <th>waterpoint_type_group</th>\n",
       "      <th>status_group</th>\n",
       "      <th>label</th>\n",
       "    </tr>\n",
       "  </thead>\n",
       "  <tbody>\n",
       "    <tr>\n",
       "      <th>0</th>\n",
       "      <td>69572</td>\n",
       "      <td>6000.0</td>\n",
       "      <td>2011-03-14</td>\n",
       "      <td>Roman</td>\n",
       "      <td>1390</td>\n",
       "      <td>Roman</td>\n",
       "      <td>34.938093</td>\n",
       "      <td>-9.856322</td>\n",
       "      <td>none</td>\n",
       "      <td>0</td>\n",
       "      <td>Lake Nyasa</td>\n",
       "      <td>Mnyusi B</td>\n",
       "      <td>Iringa</td>\n",
       "      <td>11</td>\n",
       "      <td>5</td>\n",
       "      <td>Ludewa</td>\n",
       "      <td>Mundindi</td>\n",
       "      <td>109</td>\n",
       "      <td>True</td>\n",
       "      <td>GeoData Consultants Ltd</td>\n",
       "      <td>VWC</td>\n",
       "      <td>Roman</td>\n",
       "      <td>False</td>\n",
       "      <td>1999</td>\n",
       "      <td>gravity</td>\n",
       "      <td>gravity</td>\n",
       "      <td>gravity</td>\n",
       "      <td>vwc</td>\n",
       "      <td>user-group</td>\n",
       "      <td>pay annually</td>\n",
       "      <td>annually</td>\n",
       "      <td>soft</td>\n",
       "      <td>good</td>\n",
       "      <td>enough</td>\n",
       "      <td>enough</td>\n",
       "      <td>spring</td>\n",
       "      <td>spring</td>\n",
       "      <td>groundwater</td>\n",
       "      <td>communal standpipe</td>\n",
       "      <td>communal standpipe</td>\n",
       "      <td>functional</td>\n",
       "      <td>2</td>\n",
       "    </tr>\n",
       "    <tr>\n",
       "      <th>1</th>\n",
       "      <td>8776</td>\n",
       "      <td>0.0</td>\n",
       "      <td>2013-03-06</td>\n",
       "      <td>Grumeti</td>\n",
       "      <td>1399</td>\n",
       "      <td>GRUMETI</td>\n",
       "      <td>34.698766</td>\n",
       "      <td>-2.147466</td>\n",
       "      <td>Zahanati</td>\n",
       "      <td>0</td>\n",
       "      <td>Lake Victoria</td>\n",
       "      <td>Nyamara</td>\n",
       "      <td>Mara</td>\n",
       "      <td>20</td>\n",
       "      <td>2</td>\n",
       "      <td>Serengeti</td>\n",
       "      <td>Natta</td>\n",
       "      <td>280</td>\n",
       "      <td>NaN</td>\n",
       "      <td>GeoData Consultants Ltd</td>\n",
       "      <td>Other</td>\n",
       "      <td>NaN</td>\n",
       "      <td>True</td>\n",
       "      <td>2010</td>\n",
       "      <td>gravity</td>\n",
       "      <td>gravity</td>\n",
       "      <td>gravity</td>\n",
       "      <td>wug</td>\n",
       "      <td>user-group</td>\n",
       "      <td>never pay</td>\n",
       "      <td>never pay</td>\n",
       "      <td>soft</td>\n",
       "      <td>good</td>\n",
       "      <td>insufficient</td>\n",
       "      <td>insufficient</td>\n",
       "      <td>rainwater harvesting</td>\n",
       "      <td>rainwater harvesting</td>\n",
       "      <td>surface</td>\n",
       "      <td>communal standpipe</td>\n",
       "      <td>communal standpipe</td>\n",
       "      <td>functional</td>\n",
       "      <td>2</td>\n",
       "    </tr>\n",
       "    <tr>\n",
       "      <th>2</th>\n",
       "      <td>34310</td>\n",
       "      <td>25.0</td>\n",
       "      <td>2013-02-25</td>\n",
       "      <td>Lottery Club</td>\n",
       "      <td>686</td>\n",
       "      <td>World vision</td>\n",
       "      <td>37.460664</td>\n",
       "      <td>-3.821329</td>\n",
       "      <td>Kwa Mahundi</td>\n",
       "      <td>0</td>\n",
       "      <td>Pangani</td>\n",
       "      <td>Majengo</td>\n",
       "      <td>Manyara</td>\n",
       "      <td>21</td>\n",
       "      <td>4</td>\n",
       "      <td>Simanjiro</td>\n",
       "      <td>Ngorika</td>\n",
       "      <td>250</td>\n",
       "      <td>True</td>\n",
       "      <td>GeoData Consultants Ltd</td>\n",
       "      <td>VWC</td>\n",
       "      <td>Nyumba ya mungu pipe scheme</td>\n",
       "      <td>True</td>\n",
       "      <td>2009</td>\n",
       "      <td>gravity</td>\n",
       "      <td>gravity</td>\n",
       "      <td>gravity</td>\n",
       "      <td>vwc</td>\n",
       "      <td>user-group</td>\n",
       "      <td>pay per bucket</td>\n",
       "      <td>per bucket</td>\n",
       "      <td>soft</td>\n",
       "      <td>good</td>\n",
       "      <td>enough</td>\n",
       "      <td>enough</td>\n",
       "      <td>dam</td>\n",
       "      <td>dam</td>\n",
       "      <td>surface</td>\n",
       "      <td>communal standpipe multiple</td>\n",
       "      <td>communal standpipe</td>\n",
       "      <td>functional</td>\n",
       "      <td>2</td>\n",
       "    </tr>\n",
       "    <tr>\n",
       "      <th>3</th>\n",
       "      <td>67743</td>\n",
       "      <td>0.0</td>\n",
       "      <td>2013-01-28</td>\n",
       "      <td>Unicef</td>\n",
       "      <td>263</td>\n",
       "      <td>UNICEF</td>\n",
       "      <td>38.486161</td>\n",
       "      <td>-11.155298</td>\n",
       "      <td>Zahanati Ya Nanyumbu</td>\n",
       "      <td>0</td>\n",
       "      <td>Ruvuma / Southern Coast</td>\n",
       "      <td>Mahakamani</td>\n",
       "      <td>Mtwara</td>\n",
       "      <td>90</td>\n",
       "      <td>63</td>\n",
       "      <td>Nanyumbu</td>\n",
       "      <td>Nanyumbu</td>\n",
       "      <td>58</td>\n",
       "      <td>True</td>\n",
       "      <td>GeoData Consultants Ltd</td>\n",
       "      <td>VWC</td>\n",
       "      <td>NaN</td>\n",
       "      <td>True</td>\n",
       "      <td>1986</td>\n",
       "      <td>submersible</td>\n",
       "      <td>submersible</td>\n",
       "      <td>submersible</td>\n",
       "      <td>vwc</td>\n",
       "      <td>user-group</td>\n",
       "      <td>never pay</td>\n",
       "      <td>never pay</td>\n",
       "      <td>soft</td>\n",
       "      <td>good</td>\n",
       "      <td>dry</td>\n",
       "      <td>dry</td>\n",
       "      <td>machine dbh</td>\n",
       "      <td>borehole</td>\n",
       "      <td>groundwater</td>\n",
       "      <td>communal standpipe multiple</td>\n",
       "      <td>communal standpipe</td>\n",
       "      <td>non functional</td>\n",
       "      <td>0</td>\n",
       "    </tr>\n",
       "    <tr>\n",
       "      <th>4</th>\n",
       "      <td>19728</td>\n",
       "      <td>0.0</td>\n",
       "      <td>2011-07-13</td>\n",
       "      <td>Action In A</td>\n",
       "      <td>0</td>\n",
       "      <td>Artisan</td>\n",
       "      <td>31.130847</td>\n",
       "      <td>-1.825359</td>\n",
       "      <td>Shuleni</td>\n",
       "      <td>0</td>\n",
       "      <td>Lake Victoria</td>\n",
       "      <td>Kyanyamisa</td>\n",
       "      <td>Kagera</td>\n",
       "      <td>18</td>\n",
       "      <td>1</td>\n",
       "      <td>Karagwe</td>\n",
       "      <td>Nyakasimbi</td>\n",
       "      <td>0</td>\n",
       "      <td>True</td>\n",
       "      <td>GeoData Consultants Ltd</td>\n",
       "      <td>NaN</td>\n",
       "      <td>NaN</td>\n",
       "      <td>True</td>\n",
       "      <td>0</td>\n",
       "      <td>gravity</td>\n",
       "      <td>gravity</td>\n",
       "      <td>gravity</td>\n",
       "      <td>other</td>\n",
       "      <td>other</td>\n",
       "      <td>never pay</td>\n",
       "      <td>never pay</td>\n",
       "      <td>soft</td>\n",
       "      <td>good</td>\n",
       "      <td>seasonal</td>\n",
       "      <td>seasonal</td>\n",
       "      <td>rainwater harvesting</td>\n",
       "      <td>rainwater harvesting</td>\n",
       "      <td>surface</td>\n",
       "      <td>communal standpipe</td>\n",
       "      <td>communal standpipe</td>\n",
       "      <td>functional</td>\n",
       "      <td>2</td>\n",
       "    </tr>\n",
       "  </tbody>\n",
       "</table>\n",
       "</div>"
      ],
      "text/plain": [
       "      id  amount_tsh date_recorded        funder  gps_height     installer  \\\n",
       "0  69572      6000.0    2011-03-14         Roman        1390         Roman   \n",
       "1   8776         0.0    2013-03-06       Grumeti        1399       GRUMETI   \n",
       "2  34310        25.0    2013-02-25  Lottery Club         686  World vision   \n",
       "3  67743         0.0    2013-01-28        Unicef         263        UNICEF   \n",
       "4  19728         0.0    2011-07-13   Action In A           0       Artisan   \n",
       "\n",
       "   longitude   latitude              wpt_name  num_private  \\\n",
       "0  34.938093  -9.856322                  none            0   \n",
       "1  34.698766  -2.147466              Zahanati            0   \n",
       "2  37.460664  -3.821329           Kwa Mahundi            0   \n",
       "3  38.486161 -11.155298  Zahanati Ya Nanyumbu            0   \n",
       "4  31.130847  -1.825359               Shuleni            0   \n",
       "\n",
       "                     basin  subvillage   region  region_code  district_code  \\\n",
       "0               Lake Nyasa    Mnyusi B   Iringa           11              5   \n",
       "1            Lake Victoria     Nyamara     Mara           20              2   \n",
       "2                  Pangani     Majengo  Manyara           21              4   \n",
       "3  Ruvuma / Southern Coast  Mahakamani   Mtwara           90             63   \n",
       "4            Lake Victoria  Kyanyamisa   Kagera           18              1   \n",
       "\n",
       "         lga        ward  population public_meeting              recorded_by  \\\n",
       "0     Ludewa    Mundindi         109           True  GeoData Consultants Ltd   \n",
       "1  Serengeti       Natta         280            NaN  GeoData Consultants Ltd   \n",
       "2  Simanjiro     Ngorika         250           True  GeoData Consultants Ltd   \n",
       "3   Nanyumbu    Nanyumbu          58           True  GeoData Consultants Ltd   \n",
       "4    Karagwe  Nyakasimbi           0           True  GeoData Consultants Ltd   \n",
       "\n",
       "  scheme_management                  scheme_name permit  construction_year  \\\n",
       "0               VWC                        Roman  False               1999   \n",
       "1             Other                          NaN   True               2010   \n",
       "2               VWC  Nyumba ya mungu pipe scheme   True               2009   \n",
       "3               VWC                          NaN   True               1986   \n",
       "4               NaN                          NaN   True                  0   \n",
       "\n",
       "  extraction_type extraction_type_group extraction_type_class management  \\\n",
       "0         gravity               gravity               gravity        vwc   \n",
       "1         gravity               gravity               gravity        wug   \n",
       "2         gravity               gravity               gravity        vwc   \n",
       "3     submersible           submersible           submersible        vwc   \n",
       "4         gravity               gravity               gravity      other   \n",
       "\n",
       "  management_group         payment payment_type water_quality quality_group  \\\n",
       "0       user-group    pay annually     annually          soft          good   \n",
       "1       user-group       never pay    never pay          soft          good   \n",
       "2       user-group  pay per bucket   per bucket          soft          good   \n",
       "3       user-group       never pay    never pay          soft          good   \n",
       "4            other       never pay    never pay          soft          good   \n",
       "\n",
       "       quantity quantity_group                source           source_type  \\\n",
       "0        enough         enough                spring                spring   \n",
       "1  insufficient   insufficient  rainwater harvesting  rainwater harvesting   \n",
       "2        enough         enough                   dam                   dam   \n",
       "3           dry            dry           machine dbh              borehole   \n",
       "4      seasonal       seasonal  rainwater harvesting  rainwater harvesting   \n",
       "\n",
       "  source_class              waterpoint_type waterpoint_type_group  \\\n",
       "0  groundwater           communal standpipe    communal standpipe   \n",
       "1      surface           communal standpipe    communal standpipe   \n",
       "2      surface  communal standpipe multiple    communal standpipe   \n",
       "3  groundwater  communal standpipe multiple    communal standpipe   \n",
       "4      surface           communal standpipe    communal standpipe   \n",
       "\n",
       "     status_group  label  \n",
       "0      functional      2  \n",
       "1      functional      2  \n",
       "2      functional      2  \n",
       "3  non functional      0  \n",
       "4      functional      2  "
      ]
     },
     "execution_count": 3,
     "metadata": {},
     "output_type": "execute_result"
    }
   ],
   "source": [
    "\"\"\"\n",
    "Check out the data.\n",
    "\"\"\"\n",
    "\n",
    "data.head()"
   ]
  },
  {
   "cell_type": "code",
   "execution_count": 4,
   "metadata": {},
   "outputs": [
    {
     "name": "stdout",
     "output_type": "stream",
     "text": [
      "<class 'pandas.core.frame.DataFrame'>\n",
      "Int64Index: 59400 entries, 0 to 59399\n",
      "Data columns (total 42 columns):\n",
      "id                       59400 non-null int64\n",
      "amount_tsh               59400 non-null float64\n",
      "date_recorded            59400 non-null object\n",
      "funder                   55765 non-null object\n",
      "gps_height               59400 non-null int64\n",
      "installer                55745 non-null object\n",
      "longitude                59400 non-null float64\n",
      "latitude                 59400 non-null float64\n",
      "wpt_name                 59400 non-null object\n",
      "num_private              59400 non-null int64\n",
      "basin                    59400 non-null object\n",
      "subvillage               59029 non-null object\n",
      "region                   59400 non-null object\n",
      "region_code              59400 non-null int64\n",
      "district_code            59400 non-null int64\n",
      "lga                      59400 non-null object\n",
      "ward                     59400 non-null object\n",
      "population               59400 non-null int64\n",
      "public_meeting           56066 non-null object\n",
      "recorded_by              59400 non-null object\n",
      "scheme_management        55523 non-null object\n",
      "scheme_name              31234 non-null object\n",
      "permit                   56344 non-null object\n",
      "construction_year        59400 non-null int64\n",
      "extraction_type          59400 non-null object\n",
      "extraction_type_group    59400 non-null object\n",
      "extraction_type_class    59400 non-null object\n",
      "management               59400 non-null object\n",
      "management_group         59400 non-null object\n",
      "payment                  59400 non-null object\n",
      "payment_type             59400 non-null object\n",
      "water_quality            59400 non-null object\n",
      "quality_group            59400 non-null object\n",
      "quantity                 59400 non-null object\n",
      "quantity_group           59400 non-null object\n",
      "source                   59400 non-null object\n",
      "source_type              59400 non-null object\n",
      "source_class             59400 non-null object\n",
      "waterpoint_type          59400 non-null object\n",
      "waterpoint_type_group    59400 non-null object\n",
      "status_group             59400 non-null object\n",
      "label                    59400 non-null int64\n",
      "dtypes: float64(3), int64(8), object(31)\n",
      "memory usage: 19.5+ MB\n"
     ]
    }
   ],
   "source": [
    "data.info()"
   ]
  },
  {
   "cell_type": "code",
   "execution_count": 5,
   "metadata": {},
   "outputs": [
    {
     "data": {
      "text/html": [
       "<div>\n",
       "<style scoped>\n",
       "    .dataframe tbody tr th:only-of-type {\n",
       "        vertical-align: middle;\n",
       "    }\n",
       "\n",
       "    .dataframe tbody tr th {\n",
       "        vertical-align: top;\n",
       "    }\n",
       "\n",
       "    .dataframe thead th {\n",
       "        text-align: right;\n",
       "    }\n",
       "</style>\n",
       "<table border=\"1\" class=\"dataframe\">\n",
       "  <thead>\n",
       "    <tr style=\"text-align: right;\">\n",
       "      <th></th>\n",
       "      <th>id</th>\n",
       "      <th>amount_tsh</th>\n",
       "      <th>gps_height</th>\n",
       "      <th>longitude</th>\n",
       "      <th>latitude</th>\n",
       "      <th>num_private</th>\n",
       "      <th>region_code</th>\n",
       "      <th>district_code</th>\n",
       "      <th>population</th>\n",
       "      <th>construction_year</th>\n",
       "      <th>label</th>\n",
       "    </tr>\n",
       "  </thead>\n",
       "  <tbody>\n",
       "    <tr>\n",
       "      <th>count</th>\n",
       "      <td>59400.000000</td>\n",
       "      <td>59400.000000</td>\n",
       "      <td>59400.000000</td>\n",
       "      <td>59400.000000</td>\n",
       "      <td>5.940000e+04</td>\n",
       "      <td>59400.000000</td>\n",
       "      <td>59400.000000</td>\n",
       "      <td>59400.000000</td>\n",
       "      <td>59400.000000</td>\n",
       "      <td>59400.000000</td>\n",
       "      <td>59400.000000</td>\n",
       "    </tr>\n",
       "    <tr>\n",
       "      <th>mean</th>\n",
       "      <td>37115.131768</td>\n",
       "      <td>317.650385</td>\n",
       "      <td>668.297239</td>\n",
       "      <td>34.077427</td>\n",
       "      <td>-5.706033e+00</td>\n",
       "      <td>0.474141</td>\n",
       "      <td>15.297003</td>\n",
       "      <td>5.629747</td>\n",
       "      <td>179.909983</td>\n",
       "      <td>1300.652475</td>\n",
       "      <td>1.158838</td>\n",
       "    </tr>\n",
       "    <tr>\n",
       "      <th>std</th>\n",
       "      <td>21453.128371</td>\n",
       "      <td>2997.574558</td>\n",
       "      <td>693.116350</td>\n",
       "      <td>6.567432</td>\n",
       "      <td>2.946019e+00</td>\n",
       "      <td>12.236230</td>\n",
       "      <td>17.587406</td>\n",
       "      <td>9.633649</td>\n",
       "      <td>471.482176</td>\n",
       "      <td>951.620547</td>\n",
       "      <td>0.949794</td>\n",
       "    </tr>\n",
       "    <tr>\n",
       "      <th>min</th>\n",
       "      <td>0.000000</td>\n",
       "      <td>0.000000</td>\n",
       "      <td>-90.000000</td>\n",
       "      <td>0.000000</td>\n",
       "      <td>-1.164944e+01</td>\n",
       "      <td>0.000000</td>\n",
       "      <td>1.000000</td>\n",
       "      <td>0.000000</td>\n",
       "      <td>0.000000</td>\n",
       "      <td>0.000000</td>\n",
       "      <td>0.000000</td>\n",
       "    </tr>\n",
       "    <tr>\n",
       "      <th>25%</th>\n",
       "      <td>18519.750000</td>\n",
       "      <td>0.000000</td>\n",
       "      <td>0.000000</td>\n",
       "      <td>33.090347</td>\n",
       "      <td>-8.540621e+00</td>\n",
       "      <td>0.000000</td>\n",
       "      <td>5.000000</td>\n",
       "      <td>2.000000</td>\n",
       "      <td>0.000000</td>\n",
       "      <td>0.000000</td>\n",
       "      <td>0.000000</td>\n",
       "    </tr>\n",
       "    <tr>\n",
       "      <th>50%</th>\n",
       "      <td>37061.500000</td>\n",
       "      <td>0.000000</td>\n",
       "      <td>369.000000</td>\n",
       "      <td>34.908743</td>\n",
       "      <td>-5.021597e+00</td>\n",
       "      <td>0.000000</td>\n",
       "      <td>12.000000</td>\n",
       "      <td>3.000000</td>\n",
       "      <td>25.000000</td>\n",
       "      <td>1986.000000</td>\n",
       "      <td>2.000000</td>\n",
       "    </tr>\n",
       "    <tr>\n",
       "      <th>75%</th>\n",
       "      <td>55656.500000</td>\n",
       "      <td>20.000000</td>\n",
       "      <td>1319.250000</td>\n",
       "      <td>37.178387</td>\n",
       "      <td>-3.326156e+00</td>\n",
       "      <td>0.000000</td>\n",
       "      <td>17.000000</td>\n",
       "      <td>5.000000</td>\n",
       "      <td>215.000000</td>\n",
       "      <td>2004.000000</td>\n",
       "      <td>2.000000</td>\n",
       "    </tr>\n",
       "    <tr>\n",
       "      <th>max</th>\n",
       "      <td>74247.000000</td>\n",
       "      <td>350000.000000</td>\n",
       "      <td>2770.000000</td>\n",
       "      <td>40.345193</td>\n",
       "      <td>-2.000000e-08</td>\n",
       "      <td>1776.000000</td>\n",
       "      <td>99.000000</td>\n",
       "      <td>80.000000</td>\n",
       "      <td>30500.000000</td>\n",
       "      <td>2013.000000</td>\n",
       "      <td>2.000000</td>\n",
       "    </tr>\n",
       "  </tbody>\n",
       "</table>\n",
       "</div>"
      ],
      "text/plain": [
       "                 id     amount_tsh    gps_height     longitude      latitude  \\\n",
       "count  59400.000000   59400.000000  59400.000000  59400.000000  5.940000e+04   \n",
       "mean   37115.131768     317.650385    668.297239     34.077427 -5.706033e+00   \n",
       "std    21453.128371    2997.574558    693.116350      6.567432  2.946019e+00   \n",
       "min        0.000000       0.000000    -90.000000      0.000000 -1.164944e+01   \n",
       "25%    18519.750000       0.000000      0.000000     33.090347 -8.540621e+00   \n",
       "50%    37061.500000       0.000000    369.000000     34.908743 -5.021597e+00   \n",
       "75%    55656.500000      20.000000   1319.250000     37.178387 -3.326156e+00   \n",
       "max    74247.000000  350000.000000   2770.000000     40.345193 -2.000000e-08   \n",
       "\n",
       "        num_private   region_code  district_code    population  \\\n",
       "count  59400.000000  59400.000000   59400.000000  59400.000000   \n",
       "mean       0.474141     15.297003       5.629747    179.909983   \n",
       "std       12.236230     17.587406       9.633649    471.482176   \n",
       "min        0.000000      1.000000       0.000000      0.000000   \n",
       "25%        0.000000      5.000000       2.000000      0.000000   \n",
       "50%        0.000000     12.000000       3.000000     25.000000   \n",
       "75%        0.000000     17.000000       5.000000    215.000000   \n",
       "max     1776.000000     99.000000      80.000000  30500.000000   \n",
       "\n",
       "       construction_year         label  \n",
       "count       59400.000000  59400.000000  \n",
       "mean         1300.652475      1.158838  \n",
       "std           951.620547      0.949794  \n",
       "min             0.000000      0.000000  \n",
       "25%             0.000000      0.000000  \n",
       "50%          1986.000000      2.000000  \n",
       "75%          2004.000000      2.000000  \n",
       "max          2013.000000      2.000000  "
      ]
     },
     "execution_count": 5,
     "metadata": {},
     "output_type": "execute_result"
    }
   ],
   "source": [
    "data.describe()"
   ]
  },
  {
   "cell_type": "code",
   "execution_count": 6,
   "metadata": {},
   "outputs": [
    {
     "data": {
      "text/plain": [
       "<matplotlib.axes._subplots.AxesSubplot at 0x1bde0984240>"
      ]
     },
     "execution_count": 6,
     "metadata": {},
     "output_type": "execute_result"
    },
    {
     "data": {
      "image/png": "[encoded data removed]",
      "text/plain": [
       "<Figure size 432x288 with 1 Axes>"
      ]
     },
     "metadata": {
      "needs_background": "light"
     },
     "output_type": "display_data"
    }
   ],
   "source": [
    "\"\"\"\n",
    "Let's visualise the status groups which we have to predict. The data is imbalanced.\n",
    "\n",
    "functional                 32259\n",
    "non functional             22824\n",
    "functional needs repair     4317\n",
    "\n",
    "The 54% of the values is functional, so this could be the baseline model. If we predict every pump to functional, we get a 54%\n",
    "accuracy.\n",
    "\"\"\"\n",
    "\n",
    "sns.countplot(data['status_group'])"
   ]
  },
  {
   "cell_type": "markdown",
   "metadata": {},
   "source": [
    "# Feautre engineering and EDA\n",
    "\n",
    "## Deal with NaN / 0 values first."
   ]
  },
  {
   "cell_type": "code",
   "execution_count": 7,
   "metadata": {},
   "outputs": [],
   "source": [
    "\"\"\"\n",
    "Overall investigating first the numeric type columns.\n",
    "Create two dataframes one for the numerical columns, and one for the object type.\n",
    "\"\"\"\n",
    "\n",
    "data_numeric = data.select_dtypes(include=['float64','int64']).drop(['label', 'id'], axis=1)\n",
    "data_object = data.select_dtypes(include=['object'])"
   ]
  },
  {
   "cell_type": "code",
   "execution_count": 8,
   "metadata": {},
   "outputs": [
    {
     "name": "stdout",
     "output_type": "stream",
     "text": [
      "amount_tsh | 70.1% is zero | <class 'numpy.float64'> | 98 unique values | 41639 zero count.\n",
      "gps_height | 34.4% is zero | <class 'numpy.int64'> | 2428 unique values | 20438 zero count.\n",
      "longitude | 3.1% is zero | <class 'numpy.float64'> | 57516 unique values | 1812 zero count.\n",
      "latitude | 0.0% is zero | <class 'numpy.float64'> | 57517 unique values | 0 zero count.\n",
      "num_private | 98.7% is zero | <class 'numpy.int64'> | 65 unique values | 58643 zero count.\n",
      "region_code | 0.0% is zero | <class 'numpy.int64'> | 27 unique values | 0 zero count.\n",
      "district_code | 0.0% is zero | <class 'numpy.int64'> | 20 unique values | 23 zero count.\n",
      "population | 36.0% is zero | <class 'numpy.int64'> | 1049 unique values | 21381 zero count.\n",
      "construction_year | 34.9% is zero | <class 'numpy.int64'> | 55 unique values | 20709 zero count.\n"
     ]
    }
   ],
   "source": [
    "\"\"\"\n",
    "The numeric columns doesn't have any NaNs.\n",
    "If we consider 0 = NaN, here's how the numeric columns look like.\n",
    "\"\"\"\n",
    "\n",
    "for i in data_numeric.columns:\n",
    "    print(i, '| {:.1%}'.format(data[i].loc[data[i] == 0].count() / len(data)), 'is zero |' ,type(data[i][0]), '|',\n",
    "    data[i].nunique(), 'unique values |', data['id'].loc[data[i] == 0].count(), 'zero count.')"
   ]
  },
  {
   "cell_type": "code",
   "execution_count": 9,
   "metadata": {},
   "outputs": [
    {
     "name": "stdout",
     "output_type": "stream",
     "text": [
      "date_recorded | 0.0% nulls | <class 'str'> | 356 unique values\n",
      "funder | 6.1% nulls | <class 'str'> | 1897 unique values\n",
      "installer | 6.2% nulls | <class 'str'> | 2145 unique values\n",
      "wpt_name | 0.0% nulls | <class 'str'> | 37400 unique values\n",
      "basin | 0.0% nulls | <class 'str'> | 9 unique values\n",
      "subvillage | 0.6% nulls | <class 'str'> | 19287 unique values\n",
      "region | 0.0% nulls | <class 'str'> | 21 unique values\n",
      "lga | 0.0% nulls | <class 'str'> | 125 unique values\n",
      "ward | 0.0% nulls | <class 'str'> | 2092 unique values\n",
      "public_meeting | 5.6% nulls | <class 'bool'> | 2 unique values\n",
      "recorded_by | 0.0% nulls | <class 'str'> | 1 unique values\n",
      "scheme_management | 6.5% nulls | <class 'str'> | 12 unique values\n",
      "scheme_name | 47.4% nulls | <class 'str'> | 2696 unique values\n",
      "permit | 5.1% nulls | <class 'bool'> | 2 unique values\n",
      "extraction_type | 0.0% nulls | <class 'str'> | 18 unique values\n",
      "extraction_type_group | 0.0% nulls | <class 'str'> | 13 unique values\n",
      "extraction_type_class | 0.0% nulls | <class 'str'> | 7 unique values\n",
      "management | 0.0% nulls | <class 'str'> | 12 unique values\n",
      "management_group | 0.0% nulls | <class 'str'> | 5 unique values\n",
      "payment | 0.0% nulls | <class 'str'> | 7 unique values\n",
      "payment_type | 0.0% nulls | <class 'str'> | 7 unique values\n",
      "water_quality | 0.0% nulls | <class 'str'> | 8 unique values\n",
      "quality_group | 0.0% nulls | <class 'str'> | 6 unique values\n",
      "quantity | 0.0% nulls | <class 'str'> | 5 unique values\n",
      "quantity_group | 0.0% nulls | <class 'str'> | 5 unique values\n",
      "source | 0.0% nulls | <class 'str'> | 10 unique values\n",
      "source_type | 0.0% nulls | <class 'str'> | 7 unique values\n",
      "source_class | 0.0% nulls | <class 'str'> | 3 unique values\n",
      "waterpoint_type | 0.0% nulls | <class 'str'> | 7 unique values\n",
      "waterpoint_type_group | 0.0% nulls | <class 'str'> | 6 unique values\n",
      "status_group | 0.0% nulls | <class 'str'> | 3 unique values\n"
     ]
    }
   ],
   "source": [
    "\"\"\"\n",
    "The same for the object columns.\n",
    "\"\"\"\n",
    "\n",
    "for i in data_object.columns:\n",
    "    print(i, '|', '{:.1%}'.format(np.mean(data[i].isnull())), 'nulls', '|' ,type(data[i][0]), '|',\n",
    "    data[i].nunique(), 'unique values')"
   ]
  },
  {
   "cell_type": "code",
   "execution_count": 10,
   "metadata": {},
   "outputs": [
    {
     "name": "stdout",
     "output_type": "stream",
     "text": [
      "1812\n",
      "0\n"
     ]
    }
   ],
   "source": [
    "\"\"\"\n",
    "LATITUDE / LONGITUDE:\n",
    "We can see that there are 1812 latitude / longitude combinations in the TRAIN set, where there are corrupted data. Fortunately\n",
    "this is not much, compared to the overall 59.400 rows, so we can definitely impute them somehow, or delete them.\n",
    "\"\"\"\n",
    "\n",
    "print(data['id'].loc[(data['longitude'] == 0) & (data['latitude'] == -2.000000e-08)].count())\n",
    "print(data['id'].loc[(data['longitude'] == 0) & (data['latitude'] != -2.000000e-08)].count())"
   ]
  },
  {
   "cell_type": "code",
   "execution_count": 11,
   "metadata": {},
   "outputs": [
    {
     "name": "stdout",
     "output_type": "stream",
     "text": [
      "Different values in 'funder': 1897 \n",
      "\n",
      "Government Of Tanzania    9084\n",
      "Danida                    3114\n",
      "Hesawa                    2202\n",
      "Rwssp                     1374\n",
      "World Bank                1349\n",
      "Kkkt                      1287\n",
      "World Vision              1246\n",
      "Unicef                    1057\n",
      "Tasaf                      877\n",
      "District Council           843\n",
      "Name: funder, dtype: int64\n"
     ]
    }
   ],
   "source": [
    "\"\"\"\n",
    "Start with object columns.\n",
    "\n",
    "'funder' has 1897 different values, and 6,1% of NaNs, we should compress them, \n",
    "making an 'other' column for values smaller 1300.\n",
    "\"\"\"\n",
    "print('Different values in \\'funder\\':', data['funder'].value_counts().count(), '\\n')\n",
    "print(data['funder'].value_counts().head(10))"
   ]
  },
  {
   "cell_type": "code",
   "execution_count": 12,
   "metadata": {},
   "outputs": [
    {
     "name": "stdout",
     "output_type": "stream",
     "text": [
      "Different values in 'installer': 2145 \n",
      "\n",
      "DWE                   17402\n",
      "Government             1825\n",
      "RWE                    1206\n",
      "Commu                  1060\n",
      "DANIDA                 1050\n",
      "KKKT                    898\n",
      "Hesawa                  840\n",
      "0                       777\n",
      "TCRS                    707\n",
      "Central government      622\n",
      "Name: installer, dtype: int64\n"
     ]
    }
   ],
   "source": [
    "\"\"\"\n",
    "Continue with the 'installer' column. This has 6.2% of NaNs.\n",
    "Looking at the top 10 rows, I could see a correlation with 'funder', so maybe we shouldn't use this, but I will do the\n",
    "binning anyway.\n",
    "\"\"\"\n",
    "\n",
    "print('Different values in \\'installer\\':', data['installer'].value_counts().count(), '\\n')\n",
    "print(data['installer'].value_counts().head(10))"
   ]
  },
  {
   "cell_type": "code",
   "execution_count": 13,
   "metadata": {},
   "outputs": [
    {
     "name": "stdout",
     "output_type": "stream",
     "text": [
      "Different values in 'scheme_management': 12 \n",
      "\n",
      "VWC                 36793\n",
      "WUG                  5206\n",
      "Water authority      3153\n",
      "WUA                  2883\n",
      "Water Board          2748\n",
      "Parastatal           1680\n",
      "Private operator     1063\n",
      "Company              1061\n",
      "Other                 766\n",
      "SWC                    97\n",
      "Name: scheme_management, dtype: int64\n"
     ]
    }
   ],
   "source": [
    "\"\"\"\n",
    "'scheme_management' has 6.5% of NaNs. We can bin the 12 values to 6.\n",
    "\"\"\"\n",
    "\n",
    "print('Different values in \\'scheme_management\\':', data['scheme_management'].value_counts().count(), '\\n')\n",
    "print(data['scheme_management'].value_counts().head(10))"
   ]
  },
  {
   "cell_type": "code",
   "execution_count": 14,
   "metadata": {},
   "outputs": [],
   "source": [
    "\"\"\"\n",
    "Object NaN handling:\n",
    "\n",
    "Handling NaN's with binning 'funder' / 'installer' / 'scheme_management' column.\n",
    "Filling in with the mode: 'subvillage' column, because it has only 0.6% of NaNs.\n",
    "Filling with False: 'permit' and 'public_meeting'.\n",
    "We won't deal with scheme_name, almost half of the values are NaN.\n",
    "\"\"\"\n",
    "\n",
    "def funder_binning(row):\n",
    "    if row['funder'] == 'Government Of Tanzania':\n",
    "        return 'gov'\n",
    "    elif row['funder'] == 'Danida':\n",
    "        return 'danida'\n",
    "    elif row['funder'] == 'Hesawa':\n",
    "        return 'hesawa'\n",
    "    elif row['funder'] == 'Rwssp':\n",
    "        return 'rwssp'\n",
    "    elif row['funder'] == 'World Bank':\n",
    "        return 'worldbank'\n",
    "    else:\n",
    "        return 'other'\n",
    "    \n",
    "def installer_binning(row):\n",
    "    if row['installer'] == 'DWE':\n",
    "        return 'dwe'\n",
    "    elif row['installer'] == 'Government':\n",
    "        return 'gov'\n",
    "    elif row['installer'] == 'RWE':\n",
    "        return 'rwe'\n",
    "    elif row['installer'] == 'Commu':\n",
    "        return 'commu'\n",
    "    elif row['installer'] == 'DANIDA':\n",
    "        return 'danida'\n",
    "    else:\n",
    "        return 'other'\n",
    "    \n",
    "def scheme_management_binning(row):\n",
    "    if row['scheme_management'] == 'VWC':\n",
    "        return 'vwc'\n",
    "    elif row['scheme_management'] == 'WUG':\n",
    "        return 'wug'\n",
    "    elif row['scheme_management'] == 'Water authority':\n",
    "        return 'water authority'\n",
    "    elif row['scheme_management'] == 'WUA':\n",
    "        return 'wua'\n",
    "    elif row['scheme_management'] == 'Water Board':\n",
    "        return 'water board'\n",
    "    else:\n",
    "        return 'other'\n",
    "    \n",
    "data['funder'] = data.apply(lambda row: funder_binning(row), axis=1)\n",
    "data['installer'] = data.apply(lambda row: installer_binning(row), axis=1)\n",
    "data['scheme_management'] = data.apply(lambda row: scheme_management_binning(row), axis=1)\n",
    "\n",
    "data['subvillage'] = data['subvillage'].fillna(data['subvillage'].mode().iloc[0])\n",
    "\n",
    "data['public_meeting'].fillna(False, inplace=True)\n",
    "data['permit'].fillna(False, inplace=True)"
   ]
  },
  {
   "cell_type": "code",
   "execution_count": 15,
   "metadata": {
    "scrolled": true
   },
   "outputs": [
    {
     "data": {
      "text/plain": [
       "0       20709\n",
       "2010     2645\n",
       "2008     2613\n",
       "2009     2533\n",
       "2000     2091\n",
       "2007     1587\n",
       "2006     1471\n",
       "2003     1286\n",
       "2011     1256\n",
       "2004     1123\n",
       "2012     1084\n",
       "2002     1075\n",
       "1978     1037\n",
       "1995     1014\n",
       "2005     1011\n",
       "1999      979\n",
       "1998      966\n",
       "1990      954\n",
       "1985      945\n",
       "1980      811\n",
       "1996      811\n",
       "1984      779\n",
       "1982      744\n",
       "1994      738\n",
       "1972      708\n",
       "1974      676\n",
       "1997      644\n",
       "1992      640\n",
       "1993      608\n",
       "2001      540\n",
       "1988      521\n",
       "1983      488\n",
       "1975      437\n",
       "1986      434\n",
       "1976      414\n",
       "1970      411\n",
       "1991      324\n",
       "1989      316\n",
       "1987      302\n",
       "1981      238\n",
       "1977      202\n",
       "1979      192\n",
       "1973      184\n",
       "2013      176\n",
       "1971      145\n",
       "1960      102\n",
       "1967       88\n",
       "1963       85\n",
       "1968       77\n",
       "1969       59\n",
       "1964       40\n",
       "1962       30\n",
       "1961       21\n",
       "1965       19\n",
       "1966       17\n",
       "Name: construction_year, dtype: int64"
      ]
     },
     "execution_count": 15,
     "metadata": {},
     "output_type": "execute_result"
    }
   ],
   "source": [
    "\"\"\"\n",
    "Numeric NaN handling.\n",
    "\n",
    "Start with the 'construction_year' column\n",
    "\"\"\"\n",
    "\n",
    "data['construction_year'].value_counts()"
   ]
  },
  {
   "cell_type": "code",
   "execution_count": 16,
   "metadata": {},
   "outputs": [],
   "source": [
    "\"\"\"\n",
    "Make a binning for the 'construction_year'.\n",
    "\"\"\"\n",
    "\n",
    "def construction_year_binning(row):\n",
    "    if row['construction_year'] >= 1960 and row['construction_year'] < 1970:\n",
    "        return '60s'\n",
    "    elif row['construction_year'] >= 1970 and row['construction_year'] < 1980:\n",
    "        return '70s'\n",
    "    elif row['construction_year'] >= 1980 and row['construction_year'] < 1990:\n",
    "        return '80s'\n",
    "    elif row['construction_year'] >= 1990 and row['construction_year'] < 2000:\n",
    "        return '90s'\n",
    "    elif row['construction_year'] >= 2000 and row['construction_year'] < 2010:\n",
    "        return '00s'\n",
    "    elif row['construction_year'] >= 2010:\n",
    "        return '10s'\n",
    "    else:\n",
    "        return 'unknown'\n",
    "    \n",
    "data['construction_year'] = data.apply(lambda row: construction_year_binning(row), axis=1)"
   ]
  },
  {
   "cell_type": "code",
   "execution_count": 17,
   "metadata": {},
   "outputs": [
    {
     "data": {
      "text/plain": [
       "42019        70s\n",
       "19085    unknown\n",
       "23117        10s\n",
       "19297        00s\n",
       "58228        00s\n",
       "Name: construction_year, dtype: object"
      ]
     },
     "execution_count": 17,
     "metadata": {},
     "output_type": "execute_result"
    }
   ],
   "source": [
    "data['construction_year'].sample(5)"
   ]
  },
  {
   "cell_type": "code",
   "execution_count": 18,
   "metadata": {},
   "outputs": [
    {
     "data": {
      "text/plain": [
       "Index(['scheme_name'], dtype='object')"
      ]
     },
     "execution_count": 18,
     "metadata": {},
     "output_type": "execute_result"
    }
   ],
   "source": [
    "\"\"\"\n",
    "Only 'scheme_name' contains NaN values, but we won't use this column.\n",
    "\"\"\"\n",
    "\n",
    "data.columns[data.isnull().any()]"
   ]
  },
  {
   "cell_type": "markdown",
   "metadata": {},
   "source": [
    "## Plotting the data"
   ]
  },
  {
   "cell_type": "code",
   "execution_count": 19,
   "metadata": {
    "scrolled": false
   },
   "outputs": [
    {
     "name": "stderr",
     "output_type": "stream",
     "text": [
      "C:\\Anaconda3\\lib\\site-packages\\matplotlib\\pyplot.py:514: RuntimeWarning: More than 20 figures have been opened. Figures created through the pyplot interface (`matplotlib.pyplot.figure`) are retained until explicitly closed and may consume too much memory. (To control this warning, see the rcParam `figure.max_open_warning`).\n",
      "  max_open_warning, RuntimeWarning)\n"
     ]
    },
    {
     "data": {
      "image/png": "[encoded data removed]",
      "text/plain": [
       "<Figure size 1008x432 with 1 Axes>"
      ]
     },
     "metadata": {
      "needs_background": "light"
     },
     "output_type": "display_data"
    },
    {
     "data": {
      "image/png": "[encoded data removed]",
      "text/plain": [
       "<Figure size 432x288 with 1 Axes>"
      ]
     },
     "metadata": {
      "needs_background": "light"
     },
     "output_type": "display_data"
    },
    {
     "data": {
      "image/png": "[encoded data removed]",
      "text/plain": [
       "<Figure size 1008x432 with 1 Axes>"
      ]
     },
     "metadata": {
      "needs_background": "light"
     },
     "output_type": "display_data"
    },
    {
     "data": {
      "image/png": "[encoded data removed]",
      "text/plain": [
       "<Figure size 1008x432 with 1 Axes>"
      ]
     },
     "metadata": {
      "needs_background": "light"
     },
     "output_type": "display_data"
    },
    {
     "data": {
      "image/png": "[encoded data removed]",
      "text/plain": [
       "<Figure size 1008x432 with 1 Axes>"
      ]
     },
     "metadata": {
      "needs_background": "light"
     },
     "output_type": "display_data"
    },
    {
     "data": {
      "image/png": "[encoded data removed]",
      "text/plain": [
       "<Figure size 1008x432 with 1 Axes>"
      ]
     },
     "metadata": {
      "needs_background": "light"
     },
     "output_type": "display_data"
    },
    {
     "data": {
      "image/png": "[encoded data removed]",
      "text/plain": [
       "<Figure size 1008x432 with 1 Axes>"
      ]
     },
     "metadata": {
      "needs_background": "light"
     },
     "output_type": "display_data"
    },
    {
     "data": {
      "image/png": "[encoded data removed]",
      "text/plain": [
       "<Figure size 1008x432 with 1 Axes>"
      ]
     },
     "metadata": {
      "needs_background": "light"
     },
     "output_type": "display_data"
    },
    {
     "data": {
      "image/png": "[encoded data removed]",
      "text/plain": [
       "<Figure size 1008x432 with 1 Axes>"
      ]
     },
     "metadata": {
      "needs_background": "light"
     },
     "output_type": "display_data"
    },
    {
     "data": {
      "image/png": "[encoded data removed]",
      "text/plain": [
       "<Figure size 1008x432 with 1 Axes>"
      ]
     },
     "metadata": {
      "needs_background": "light"
     },
     "output_type": "display_data"
    },
    {
     "data": {
      "image/png": "[encoded data removed]",
      "text/plain": [
       "<Figure size 1008x432 with 1 Axes>"
      ]
     },
     "metadata": {
      "needs_background": "light"
     },
     "output_type": "display_data"
    },
    {
     "data": {
      "image/png": "[encoded data removed]",
      "text/plain": [
       "<Figure size 1008x432 with 1 Axes>"
      ]
     },
     "metadata": {
      "needs_background": "light"
     },
     "output_type": "display_data"
    },
    {
     "data": {
      "image/png": "[encoded data removed]",
      "text/plain": [
       "<Figure size 1008x432 with 1 Axes>"
      ]
     },
     "metadata": {
      "needs_background": "light"
     },
     "output_type": "display_data"
    },
    {
     "data": {
      "image/png": "[encoded data removed]",
      "text/plain": [
       "<Figure size 1008x432 with 1 Axes>"
      ]
     },
     "metadata": {
      "needs_background": "light"
     },
     "output_type": "display_data"
    },
    {
     "data": {
      "image/png": "[encoded data removed]",
      "text/plain": [
       "<Figure size 1008x432 with 1 Axes>"
      ]
     },
     "metadata": {
      "needs_background": "light"
     },
     "output_type": "display_data"
    },
    {
     "data": {
      "image/png": "[encoded data removed]",
      "text/plain": [
       "<Figure size 1008x432 with 1 Axes>"
      ]
     },
     "metadata": {
      "needs_background": "light"
     },
     "output_type": "display_data"
    },
    {
     "data": {
      "image/png": "[encoded data removed]",
      "text/plain": [
       "<Figure size 1008x432 with 1 Axes>"
      ]
     },
     "metadata": {
      "needs_background": "light"
     },
     "output_type": "display_data"
    },
    {
     "data": {
      "image/png": "[encoded data removed]",
      "text/plain": [
       "<Figure size 1008x432 with 1 Axes>"
      ]
     },
     "metadata": {
      "needs_background": "light"
     },
     "output_type": "display_data"
    },
    {
     "data": {
      "image/png": "[encoded data removed]",
      "text/plain": [
       "<Figure size 1008x432 with 1 Axes>"
      ]
     },
     "metadata": {
      "needs_background": "light"
     },
     "output_type": "display_data"
    },
    {
     "data": {
      "image/png": "[encoded data removed]",
      "text/plain": [
       "<Figure size 1008x432 with 1 Axes>"
      ]
     },
     "metadata": {
      "needs_background": "light"
     },
     "output_type": "display_data"
    },
    {
     "data": {
      "image/png": "[encoded data removed]",
      "text/plain": [
       "<Figure size 1008x432 with 1 Axes>"
      ]
     },
     "metadata": {
      "needs_background": "light"
     },
     "output_type": "display_data"
    },
    {
     "data": {
      "image/png": "[encoded data removed]",
      "text/plain": [
       "<Figure size 1008x432 with 1 Axes>"
      ]
     },
     "metadata": {
      "needs_background": "light"
     },
     "output_type": "display_data"
    },
    {
     "data": {
      "text/plain": [
       "<Figure size 1008x432 with 0 Axes>"
      ]
     },
     "metadata": {},
     "output_type": "display_data"
    }
   ],
   "source": [
    "\"\"\"\n",
    "Plotting the seemingly duplicated columns, to see if they are really duplicated.\n",
    "\n",
    "I would keep the following columns:\n",
    "'basin', 'public_meeting', 'scheme_management', 'permit', 'extraction_type_class', 'payment', 'quality_group', 'quantity',\n",
    "'source_type', 'source_class', 'waterpoint_type_group'\n",
    "\"\"\"\n",
    "\n",
    "plotted_columns = ['basin', 'region', 'public_meeting', 'scheme_management', 'scheme_name', 'permit', 'extraction_type', \n",
    "                  'extraction_type_group', 'extraction_type_class', 'management',\n",
    "                  'management_group', 'payment', 'payment_type', 'water_quality', 'quality_group', 'quantity', 'quantity_group',\n",
    "                  'source', 'source_type', 'source_class', 'waterpoint_type_group', 'waterpoint_type']\n",
    "\n",
    "for i, plotted_columns in enumerate(plotted_columns):\n",
    "    plt.figure(figsize=(14, 6))\n",
    "    plt.figure(i)\n",
    "    sns.countplot(data=data, x=plotted_columns, hue='status_group')"
   ]
  },
  {
   "cell_type": "code",
   "execution_count": 20,
   "metadata": {
    "scrolled": false
   },
   "outputs": [
    {
     "data": {
      "text/plain": [
       "<matplotlib.axes._subplots.AxesSubplot at 0x1bdfacb4e48>"
      ]
     },
     "execution_count": 20,
     "metadata": {},
     "output_type": "execute_result"
    },
    {
     "data": {
      "image/png": "[encoded data removed]",
      "text/plain": [
       "<Figure size 1008x432 with 1 Axes>"
      ]
     },
     "metadata": {
      "needs_background": "light"
     },
     "output_type": "display_data"
    }
   ],
   "source": [
    "\"\"\"\n",
    "The 'population' and the 'amount_tsh' distribution is the same, and they are left skewed. Decision trees are robust for skewed\n",
    "data, but others aren't.\n",
    "\n",
    "\"As a general rule of thumb: \n",
    "If skewness is less than -1 or greater than 1, the distribution is highly skewed. \n",
    "If skewness is between -1 and -0.5 or between 0.5 and 1, the distribution is moderately skewed. \n",
    "If skewness is between -0.5 and 0.5, the distribution is approximately symmetric.\"\n",
    "\"\"\"\n",
    "\n",
    "plt.figure(figsize=(14, 6))\n",
    "sns.distplot(data['population'])"
   ]
  },
  {
   "cell_type": "code",
   "execution_count": 21,
   "metadata": {},
   "outputs": [
    {
     "data": {
      "text/plain": [
       "<matplotlib.axes._subplots.AxesSubplot at 0x1bdf5a63f28>"
      ]
     },
     "execution_count": 21,
     "metadata": {},
     "output_type": "execute_result"
    },
    {
     "data": {
      "image/png": "[encoded data removed]",
      "text/plain": [
       "<Figure size 1008x432 with 1 Axes>"
      ]
     },
     "metadata": {
      "needs_background": "light"
     },
     "output_type": "display_data"
    }
   ],
   "source": [
    "plt.figure(figsize=(14, 6))\n",
    "sns.distplot(data['amount_tsh'])"
   ]
  },
  {
   "cell_type": "code",
   "execution_count": 22,
   "metadata": {},
   "outputs": [
    {
     "name": "stdout",
     "output_type": "stream",
     "text": [
      "12.660713588843592\n",
      "57.8077999458852\n"
     ]
    }
   ],
   "source": [
    "\"\"\"\n",
    "Pandas' use the Fisher–Pearson standardized moment coefficient.\n",
    "\n",
    "https://medium.com/@ODSC/transforming-skewed-data-for-machine-learning-90e6cc364b0\n",
    "\"\"\"\n",
    "\n",
    "print(data['population'].skew())\n",
    "print(data['amount_tsh'].skew())"
   ]
  },
  {
   "cell_type": "code",
   "execution_count": 23,
   "metadata": {},
   "outputs": [
    {
     "name": "stdout",
     "output_type": "stream",
     "text": [
      "0.1414983993018132\n",
      "1.3370903407288008\n"
     ]
    }
   ],
   "source": [
    "\"\"\"\n",
    "Log transformation decreased the skewness. I added 1 to every value, because it couldn't handle 0 values. \n",
    "\n",
    "Only changing the original columns to these made a percent worse accuracy.\n",
    "\"\"\"\n",
    "\n",
    "data['logt_population'] = np.log(data['population'] + 1)\n",
    "data['logt_amounttsh'] = np.log(data['amount_tsh'] + 1)\n",
    "\n",
    "print(data['logt_population'].skew())\n",
    "print(data['logt_amounttsh'].skew())"
   ]
  },
  {
   "cell_type": "code",
   "execution_count": 24,
   "metadata": {},
   "outputs": [
    {
     "data": {
      "text/plain": [
       "<matplotlib.axes._subplots.AxesSubplot at 0x1bdf5f88048>"
      ]
     },
     "execution_count": 24,
     "metadata": {},
     "output_type": "execute_result"
    },
    {
     "data": {
      "image/png": "[encoded data removed]",
      "text/plain": [
       "<Figure size 432x288 with 1 Axes>"
      ]
     },
     "metadata": {
      "needs_background": "light"
     },
     "output_type": "display_data"
    }
   ],
   "source": [
    "sns.distplot(data['logt_population'])"
   ]
  },
  {
   "cell_type": "markdown",
   "metadata": {},
   "source": [
    "# Creating the train / test / validation sets"
   ]
  },
  {
   "cell_type": "code",
   "execution_count": 25,
   "metadata": {},
   "outputs": [],
   "source": [
    "\"\"\"\n",
    "Original, without log transformed amount_tsh and population columns.\n",
    "\n",
    "2020-01-25 - I took out the installer, becasue it's almost the same as 'funder' (data_selected, dummy_cols, test_selected).\n",
    "\"\"\"\n",
    "\n",
    "data_selected = data[['amount_tsh', 'funder', 'gps_height', 'longitude', 'latitude', 'num_private', 'basin',\n",
    "                    'region_code', 'district_code', 'population', 'public_meeting', 'scheme_management', 'permit',\n",
    "                    'construction_year', 'extraction_type_class', 'payment_type', 'quality_group', 'quantity', 'source_type',\n",
    "                    'source_class', 'waterpoint_type_group', 'label']]"
   ]
  },
  {
   "cell_type": "code",
   "execution_count": 26,
   "metadata": {},
   "outputs": [],
   "source": [
    "\"\"\"\n",
    "Read the test data, and make the conversions. \n",
    "\"\"\"\n",
    "\n",
    "test = pd.read_csv('https://raw.githubusercontent.com/budapestpy-workshops/workshops/master/09_pump_it_up/Test_set_values.csv')\n",
    "\n",
    "test['funder'] = test.apply(lambda row: funder_binning(row), axis=1)\n",
    "test['installer'] = test.apply(lambda row: installer_binning(row), axis=1)\n",
    "test['scheme_management'] = test.apply(lambda row: scheme_management_binning(row), axis=1)\n",
    "\n",
    "test['subvillage'] = test['subvillage'].fillna(test['subvillage'].mode().iloc[0])\n",
    "\n",
    "test['public_meeting'].fillna(False, inplace=True)\n",
    "test['permit'].fillna(False, inplace=True)\n",
    "\n",
    "test['logt_population'] = np.log(data['population'] + 1)\n",
    "test['logt_amounttsh'] = np.log(data['amount_tsh'] + 1)\n",
    "\n",
    "test['construction_year'] = test.apply(lambda row: construction_year_binning(row), axis=1)"
   ]
  },
  {
   "cell_type": "code",
   "execution_count": 27,
   "metadata": {},
   "outputs": [
    {
     "data": {
      "text/plain": [
       "(59400, 69)"
      ]
     },
     "execution_count": 27,
     "metadata": {},
     "output_type": "execute_result"
    }
   ],
   "source": [
    "dummy_cols = ['funder', 'basin', 'public_meeting', 'scheme_management', 'permit',\n",
    "              'construction_year', 'extraction_type_class', 'payment_type', 'quality_group',\n",
    "              'quantity', 'source_type', 'source_class', 'waterpoint_type_group']\n",
    "\n",
    "data_selected = pd.get_dummies(data_selected, columns=dummy_cols, drop_first=True)\n",
    "data_selected.shape"
   ]
  },
  {
   "cell_type": "code",
   "execution_count": 28,
   "metadata": {},
   "outputs": [
    {
     "data": {
      "text/html": [
       "<div>\n",
       "<style scoped>\n",
       "    .dataframe tbody tr th:only-of-type {\n",
       "        vertical-align: middle;\n",
       "    }\n",
       "\n",
       "    .dataframe tbody tr th {\n",
       "        vertical-align: top;\n",
       "    }\n",
       "\n",
       "    .dataframe thead th {\n",
       "        text-align: right;\n",
       "    }\n",
       "</style>\n",
       "<table border=\"1\" class=\"dataframe\">\n",
       "  <thead>\n",
       "    <tr style=\"text-align: right;\">\n",
       "      <th></th>\n",
       "      <th>amount_tsh</th>\n",
       "      <th>gps_height</th>\n",
       "      <th>longitude</th>\n",
       "      <th>latitude</th>\n",
       "      <th>num_private</th>\n",
       "      <th>region_code</th>\n",
       "      <th>district_code</th>\n",
       "      <th>population</th>\n",
       "      <th>label</th>\n",
       "      <th>funder_gov</th>\n",
       "      <th>funder_hesawa</th>\n",
       "      <th>funder_other</th>\n",
       "      <th>funder_rwssp</th>\n",
       "      <th>funder_worldbank</th>\n",
       "      <th>basin_Lake Nyasa</th>\n",
       "      <th>basin_Lake Rukwa</th>\n",
       "      <th>basin_Lake Tanganyika</th>\n",
       "      <th>basin_Lake Victoria</th>\n",
       "      <th>basin_Pangani</th>\n",
       "      <th>basin_Rufiji</th>\n",
       "      <th>basin_Ruvuma / Southern Coast</th>\n",
       "      <th>basin_Wami / Ruvu</th>\n",
       "      <th>public_meeting_True</th>\n",
       "      <th>scheme_management_vwc</th>\n",
       "      <th>scheme_management_water authority</th>\n",
       "      <th>...</th>\n",
       "      <th>payment_type_other</th>\n",
       "      <th>payment_type_per bucket</th>\n",
       "      <th>payment_type_unknown</th>\n",
       "      <th>quality_group_fluoride</th>\n",
       "      <th>quality_group_good</th>\n",
       "      <th>quality_group_milky</th>\n",
       "      <th>quality_group_salty</th>\n",
       "      <th>quality_group_unknown</th>\n",
       "      <th>quantity_enough</th>\n",
       "      <th>quantity_insufficient</th>\n",
       "      <th>quantity_seasonal</th>\n",
       "      <th>quantity_unknown</th>\n",
       "      <th>source_type_dam</th>\n",
       "      <th>source_type_other</th>\n",
       "      <th>source_type_rainwater harvesting</th>\n",
       "      <th>source_type_river/lake</th>\n",
       "      <th>source_type_shallow well</th>\n",
       "      <th>source_type_spring</th>\n",
       "      <th>source_class_surface</th>\n",
       "      <th>source_class_unknown</th>\n",
       "      <th>waterpoint_type_group_communal standpipe</th>\n",
       "      <th>waterpoint_type_group_dam</th>\n",
       "      <th>waterpoint_type_group_hand pump</th>\n",
       "      <th>waterpoint_type_group_improved spring</th>\n",
       "      <th>waterpoint_type_group_other</th>\n",
       "    </tr>\n",
       "  </thead>\n",
       "  <tbody>\n",
       "    <tr>\n",
       "      <th>0</th>\n",
       "      <td>6000.0</td>\n",
       "      <td>1390</td>\n",
       "      <td>34.938093</td>\n",
       "      <td>-9.856322</td>\n",
       "      <td>0</td>\n",
       "      <td>11</td>\n",
       "      <td>5</td>\n",
       "      <td>109</td>\n",
       "      <td>2</td>\n",
       "      <td>0</td>\n",
       "      <td>0</td>\n",
       "      <td>1</td>\n",
       "      <td>0</td>\n",
       "      <td>0</td>\n",
       "      <td>1</td>\n",
       "      <td>0</td>\n",
       "      <td>0</td>\n",
       "      <td>0</td>\n",
       "      <td>0</td>\n",
       "      <td>0</td>\n",
       "      <td>0</td>\n",
       "      <td>0</td>\n",
       "      <td>1</td>\n",
       "      <td>1</td>\n",
       "      <td>0</td>\n",
       "      <td>...</td>\n",
       "      <td>0</td>\n",
       "      <td>0</td>\n",
       "      <td>0</td>\n",
       "      <td>0</td>\n",
       "      <td>1</td>\n",
       "      <td>0</td>\n",
       "      <td>0</td>\n",
       "      <td>0</td>\n",
       "      <td>1</td>\n",
       "      <td>0</td>\n",
       "      <td>0</td>\n",
       "      <td>0</td>\n",
       "      <td>0</td>\n",
       "      <td>0</td>\n",
       "      <td>0</td>\n",
       "      <td>0</td>\n",
       "      <td>0</td>\n",
       "      <td>1</td>\n",
       "      <td>0</td>\n",
       "      <td>0</td>\n",
       "      <td>1</td>\n",
       "      <td>0</td>\n",
       "      <td>0</td>\n",
       "      <td>0</td>\n",
       "      <td>0</td>\n",
       "    </tr>\n",
       "    <tr>\n",
       "      <th>1</th>\n",
       "      <td>0.0</td>\n",
       "      <td>1399</td>\n",
       "      <td>34.698766</td>\n",
       "      <td>-2.147466</td>\n",
       "      <td>0</td>\n",
       "      <td>20</td>\n",
       "      <td>2</td>\n",
       "      <td>280</td>\n",
       "      <td>2</td>\n",
       "      <td>0</td>\n",
       "      <td>0</td>\n",
       "      <td>1</td>\n",
       "      <td>0</td>\n",
       "      <td>0</td>\n",
       "      <td>0</td>\n",
       "      <td>0</td>\n",
       "      <td>0</td>\n",
       "      <td>1</td>\n",
       "      <td>0</td>\n",
       "      <td>0</td>\n",
       "      <td>0</td>\n",
       "      <td>0</td>\n",
       "      <td>0</td>\n",
       "      <td>0</td>\n",
       "      <td>0</td>\n",
       "      <td>...</td>\n",
       "      <td>0</td>\n",
       "      <td>0</td>\n",
       "      <td>0</td>\n",
       "      <td>0</td>\n",
       "      <td>1</td>\n",
       "      <td>0</td>\n",
       "      <td>0</td>\n",
       "      <td>0</td>\n",
       "      <td>0</td>\n",
       "      <td>1</td>\n",
       "      <td>0</td>\n",
       "      <td>0</td>\n",
       "      <td>0</td>\n",
       "      <td>0</td>\n",
       "      <td>1</td>\n",
       "      <td>0</td>\n",
       "      <td>0</td>\n",
       "      <td>0</td>\n",
       "      <td>1</td>\n",
       "      <td>0</td>\n",
       "      <td>1</td>\n",
       "      <td>0</td>\n",
       "      <td>0</td>\n",
       "      <td>0</td>\n",
       "      <td>0</td>\n",
       "    </tr>\n",
       "    <tr>\n",
       "      <th>2</th>\n",
       "      <td>25.0</td>\n",
       "      <td>686</td>\n",
       "      <td>37.460664</td>\n",
       "      <td>-3.821329</td>\n",
       "      <td>0</td>\n",
       "      <td>21</td>\n",
       "      <td>4</td>\n",
       "      <td>250</td>\n",
       "      <td>2</td>\n",
       "      <td>0</td>\n",
       "      <td>0</td>\n",
       "      <td>1</td>\n",
       "      <td>0</td>\n",
       "      <td>0</td>\n",
       "      <td>0</td>\n",
       "      <td>0</td>\n",
       "      <td>0</td>\n",
       "      <td>0</td>\n",
       "      <td>1</td>\n",
       "      <td>0</td>\n",
       "      <td>0</td>\n",
       "      <td>0</td>\n",
       "      <td>1</td>\n",
       "      <td>1</td>\n",
       "      <td>0</td>\n",
       "      <td>...</td>\n",
       "      <td>0</td>\n",
       "      <td>1</td>\n",
       "      <td>0</td>\n",
       "      <td>0</td>\n",
       "      <td>1</td>\n",
       "      <td>0</td>\n",
       "      <td>0</td>\n",
       "      <td>0</td>\n",
       "      <td>1</td>\n",
       "      <td>0</td>\n",
       "      <td>0</td>\n",
       "      <td>0</td>\n",
       "      <td>1</td>\n",
       "      <td>0</td>\n",
       "      <td>0</td>\n",
       "      <td>0</td>\n",
       "      <td>0</td>\n",
       "      <td>0</td>\n",
       "      <td>1</td>\n",
       "      <td>0</td>\n",
       "      <td>1</td>\n",
       "      <td>0</td>\n",
       "      <td>0</td>\n",
       "      <td>0</td>\n",
       "      <td>0</td>\n",
       "    </tr>\n",
       "    <tr>\n",
       "      <th>3</th>\n",
       "      <td>0.0</td>\n",
       "      <td>263</td>\n",
       "      <td>38.486161</td>\n",
       "      <td>-11.155298</td>\n",
       "      <td>0</td>\n",
       "      <td>90</td>\n",
       "      <td>63</td>\n",
       "      <td>58</td>\n",
       "      <td>0</td>\n",
       "      <td>0</td>\n",
       "      <td>0</td>\n",
       "      <td>1</td>\n",
       "      <td>0</td>\n",
       "      <td>0</td>\n",
       "      <td>0</td>\n",
       "      <td>0</td>\n",
       "      <td>0</td>\n",
       "      <td>0</td>\n",
       "      <td>0</td>\n",
       "      <td>0</td>\n",
       "      <td>1</td>\n",
       "      <td>0</td>\n",
       "      <td>1</td>\n",
       "      <td>1</td>\n",
       "      <td>0</td>\n",
       "      <td>...</td>\n",
       "      <td>0</td>\n",
       "      <td>0</td>\n",
       "      <td>0</td>\n",
       "      <td>0</td>\n",
       "      <td>1</td>\n",
       "      <td>0</td>\n",
       "      <td>0</td>\n",
       "      <td>0</td>\n",
       "      <td>0</td>\n",
       "      <td>0</td>\n",
       "      <td>0</td>\n",
       "      <td>0</td>\n",
       "      <td>0</td>\n",
       "      <td>0</td>\n",
       "      <td>0</td>\n",
       "      <td>0</td>\n",
       "      <td>0</td>\n",
       "      <td>0</td>\n",
       "      <td>0</td>\n",
       "      <td>0</td>\n",
       "      <td>1</td>\n",
       "      <td>0</td>\n",
       "      <td>0</td>\n",
       "      <td>0</td>\n",
       "      <td>0</td>\n",
       "    </tr>\n",
       "    <tr>\n",
       "      <th>4</th>\n",
       "      <td>0.0</td>\n",
       "      <td>0</td>\n",
       "      <td>31.130847</td>\n",
       "      <td>-1.825359</td>\n",
       "      <td>0</td>\n",
       "      <td>18</td>\n",
       "      <td>1</td>\n",
       "      <td>0</td>\n",
       "      <td>2</td>\n",
       "      <td>0</td>\n",
       "      <td>0</td>\n",
       "      <td>1</td>\n",
       "      <td>0</td>\n",
       "      <td>0</td>\n",
       "      <td>0</td>\n",
       "      <td>0</td>\n",
       "      <td>0</td>\n",
       "      <td>1</td>\n",
       "      <td>0</td>\n",
       "      <td>0</td>\n",
       "      <td>0</td>\n",
       "      <td>0</td>\n",
       "      <td>1</td>\n",
       "      <td>0</td>\n",
       "      <td>0</td>\n",
       "      <td>...</td>\n",
       "      <td>0</td>\n",
       "      <td>0</td>\n",
       "      <td>0</td>\n",
       "      <td>0</td>\n",
       "      <td>1</td>\n",
       "      <td>0</td>\n",
       "      <td>0</td>\n",
       "      <td>0</td>\n",
       "      <td>0</td>\n",
       "      <td>0</td>\n",
       "      <td>1</td>\n",
       "      <td>0</td>\n",
       "      <td>0</td>\n",
       "      <td>0</td>\n",
       "      <td>1</td>\n",
       "      <td>0</td>\n",
       "      <td>0</td>\n",
       "      <td>0</td>\n",
       "      <td>1</td>\n",
       "      <td>0</td>\n",
       "      <td>1</td>\n",
       "      <td>0</td>\n",
       "      <td>0</td>\n",
       "      <td>0</td>\n",
       "      <td>0</td>\n",
       "    </tr>\n",
       "  </tbody>\n",
       "</table>\n",
       "<p>5 rows × 69 columns</p>\n",
       "</div>"
      ],
      "text/plain": [
       "   amount_tsh  gps_height  longitude   latitude  num_private  region_code  \\\n",
       "0      6000.0        1390  34.938093  -9.856322            0           11   \n",
       "1         0.0        1399  34.698766  -2.147466            0           20   \n",
       "2        25.0         686  37.460664  -3.821329            0           21   \n",
       "3         0.0         263  38.486161 -11.155298            0           90   \n",
       "4         0.0           0  31.130847  -1.825359            0           18   \n",
       "\n",
       "   district_code  population  label  funder_gov  funder_hesawa  funder_other  \\\n",
       "0              5         109      2           0              0             1   \n",
       "1              2         280      2           0              0             1   \n",
       "2              4         250      2           0              0             1   \n",
       "3             63          58      0           0              0             1   \n",
       "4              1           0      2           0              0             1   \n",
       "\n",
       "   funder_rwssp  funder_worldbank  basin_Lake Nyasa  basin_Lake Rukwa  \\\n",
       "0             0                 0                 1                 0   \n",
       "1             0                 0                 0                 0   \n",
       "2             0                 0                 0                 0   \n",
       "3             0                 0                 0                 0   \n",
       "4             0                 0                 0                 0   \n",
       "\n",
       "   basin_Lake Tanganyika  basin_Lake Victoria  basin_Pangani  basin_Rufiji  \\\n",
       "0                      0                    0              0             0   \n",
       "1                      0                    1              0             0   \n",
       "2                      0                    0              1             0   \n",
       "3                      0                    0              0             0   \n",
       "4                      0                    1              0             0   \n",
       "\n",
       "   basin_Ruvuma / Southern Coast  basin_Wami / Ruvu  public_meeting_True  \\\n",
       "0                              0                  0                    1   \n",
       "1                              0                  0                    0   \n",
       "2                              0                  0                    1   \n",
       "3                              1                  0                    1   \n",
       "4                              0                  0                    1   \n",
       "\n",
       "   scheme_management_vwc  scheme_management_water authority  ...  \\\n",
       "0                      1                                  0  ...   \n",
       "1                      0                                  0  ...   \n",
       "2                      1                                  0  ...   \n",
       "3                      1                                  0  ...   \n",
       "4                      0                                  0  ...   \n",
       "\n",
       "   payment_type_other  payment_type_per bucket  payment_type_unknown  \\\n",
       "0                   0                        0                     0   \n",
       "1                   0                        0                     0   \n",
       "2                   0                        1                     0   \n",
       "3                   0                        0                     0   \n",
       "4                   0                        0                     0   \n",
       "\n",
       "   quality_group_fluoride  quality_group_good  quality_group_milky  \\\n",
       "0                       0                   1                    0   \n",
       "1                       0                   1                    0   \n",
       "2                       0                   1                    0   \n",
       "3                       0                   1                    0   \n",
       "4                       0                   1                    0   \n",
       "\n",
       "   quality_group_salty  quality_group_unknown  quantity_enough  \\\n",
       "0                    0                      0                1   \n",
       "1                    0                      0                0   \n",
       "2                    0                      0                1   \n",
       "3                    0                      0                0   \n",
       "4                    0                      0                0   \n",
       "\n",
       "   quantity_insufficient  quantity_seasonal  quantity_unknown  \\\n",
       "0                      0                  0                 0   \n",
       "1                      1                  0                 0   \n",
       "2                      0                  0                 0   \n",
       "3                      0                  0                 0   \n",
       "4                      0                  1                 0   \n",
       "\n",
       "   source_type_dam  source_type_other  source_type_rainwater harvesting  \\\n",
       "0                0                  0                                 0   \n",
       "1                0                  0                                 1   \n",
       "2                1                  0                                 0   \n",
       "3                0                  0                                 0   \n",
       "4                0                  0                                 1   \n",
       "\n",
       "   source_type_river/lake  source_type_shallow well  source_type_spring  \\\n",
       "0                       0                         0                   1   \n",
       "1                       0                         0                   0   \n",
       "2                       0                         0                   0   \n",
       "3                       0                         0                   0   \n",
       "4                       0                         0                   0   \n",
       "\n",
       "   source_class_surface  source_class_unknown  \\\n",
       "0                     0                     0   \n",
       "1                     1                     0   \n",
       "2                     1                     0   \n",
       "3                     0                     0   \n",
       "4                     1                     0   \n",
       "\n",
       "   waterpoint_type_group_communal standpipe  waterpoint_type_group_dam  \\\n",
       "0                                         1                          0   \n",
       "1                                         1                          0   \n",
       "2                                         1                          0   \n",
       "3                                         1                          0   \n",
       "4                                         1                          0   \n",
       "\n",
       "   waterpoint_type_group_hand pump  waterpoint_type_group_improved spring  \\\n",
       "0                                0                                      0   \n",
       "1                                0                                      0   \n",
       "2                                0                                      0   \n",
       "3                                0                                      0   \n",
       "4                                0                                      0   \n",
       "\n",
       "   waterpoint_type_group_other  \n",
       "0                            0  \n",
       "1                            0  \n",
       "2                            0  \n",
       "3                            0  \n",
       "4                            0  \n",
       "\n",
       "[5 rows x 69 columns]"
      ]
     },
     "execution_count": 28,
     "metadata": {},
     "output_type": "execute_result"
    }
   ],
   "source": [
    "data_selected.head()"
   ]
  },
  {
   "cell_type": "code",
   "execution_count": 29,
   "metadata": {},
   "outputs": [
    {
     "data": {
      "text/plain": [
       "(14850, 68)"
      ]
     },
     "execution_count": 29,
     "metadata": {},
     "output_type": "execute_result"
    }
   ],
   "source": [
    "\"\"\"\n",
    "Original, without log transformed amount_tsh and population columns.\n",
    "\"\"\"\n",
    "\n",
    "test_selected = test[['amount_tsh', 'funder', 'gps_height', 'longitude', 'latitude', 'num_private', 'basin',\n",
    "            'region_code', 'district_code', 'population', 'public_meeting', 'scheme_management', 'permit',\n",
    "            'construction_year', 'extraction_type_class', 'payment_type', 'quality_group', 'quantity', 'source_type',\n",
    "            'source_class', 'waterpoint_type_group']]\n",
    "\n",
    "test_selected = pd.get_dummies(test_selected, columns=dummy_cols, drop_first=True)\n",
    "test_selected.shape"
   ]
  },
  {
   "cell_type": "code",
   "execution_count": 31,
   "metadata": {},
   "outputs": [],
   "source": [
    "target = data_selected['label']\n",
    "features = data_selected.drop('label', axis=1)"
   ]
  },
  {
   "cell_type": "code",
   "execution_count": 32,
   "metadata": {},
   "outputs": [
    {
     "name": "stdout",
     "output_type": "stream",
     "text": [
      "X_train original shape: (47520, 68)\n",
      "X_train shape after creating validation set: (40392, 68)\n",
      "X_val shape: (7128, 68)\n"
     ]
    }
   ],
   "source": [
    "\"\"\"\n",
    "Creating the train / test / validation datasets.\n",
    "\"\"\"\n",
    "\n",
    "X_train, X_test, y_train, y_test = train_test_split(features, target, train_size=0.8, stratify=target, random_state=123)\n",
    "print('X_train original shape:', X_train.shape)\n",
    "\n",
    "X_train, X_val, y_train, y_val = train_test_split(X_train, y_train, train_size=0.85, stratify=y_train, random_state=123)\n",
    "print('X_train shape after creating validation set:', X_train.shape)\n",
    "print('X_val shape:', X_val.shape)"
   ]
  },
  {
   "cell_type": "code",
   "execution_count": 33,
   "metadata": {},
   "outputs": [
    {
     "name": "stderr",
     "output_type": "stream",
     "text": [
      "Using TensorFlow backend.\n"
     ]
    },
    {
     "name": "stdout",
     "output_type": "stream",
     "text": [
      "Original data: [(0, 15520), (1, 2936), (2, 21936)]\n",
      "Resampled data: [(0, 21936), (1, 21936), (2, 21936)]\n"
     ]
    }
   ],
   "source": [
    "\"\"\"\n",
    "Oversampling example with SMOTE.\n",
    "\n",
    "It was an experiment, how the models react to a manually balanced dataset. It made the accuracy worse.\n",
    "\n",
    "https://towardsdatascience.com/sampling-techniques-for-extremely-imbalanced-data-part-ii-over-sampling-d61b43bc4879\n",
    "https://www.kaggle.com/rafjaa/resampling-strategies-for-imbalanced-datasets\n",
    "\"\"\"\n",
    "\n",
    "from collections import Counter\n",
    "from imblearn.over_sampling import SMOTE, ADASYN\n",
    "\n",
    "X_resampled, y_resampled = SMOTE().fit_resample(X_train, y_train)\n",
    "\n",
    "print('Original data:', sorted(Counter(y_train).items()))\n",
    "print('Resampled data:', sorted(Counter(y_resampled).items()))"
   ]
  },
  {
   "cell_type": "markdown",
   "metadata": {},
   "source": [
    "# Modeling\n",
    "\n",
    "### Experimenting with PCA"
   ]
  },
  {
   "cell_type": "raw",
   "metadata": {},
   "source": [
    "\"\"\"\n",
    "Dimension reduction with PCA.\n",
    "\n",
    "First I tried to reduce from 121 to 30 components, it scored 72% on the validation set.\n",
    "\"\"\"\n",
    "data_selected_scaled = StandardScaler().fit_transform(data_selected.drop('label', axis=1))\n",
    "data_selected_scaled = pd.DataFrame(data_selected_scaled)\n",
    "\n",
    "pca = PCA(n_components=30)\n",
    "x_pca = pca.fit_transform(data_selected_scaled)\n",
    "x_pca = pd.DataFrame(x_pca)\n",
    "\n",
    "# explained_variance = pca.explained_variance_ratio_\n",
    "x_pca.head(2)"
   ]
  },
  {
   "cell_type": "raw",
   "metadata": {},
   "source": [
    "\"\"\"\n",
    "StandardScaled edition.\n",
    "Using x_pca for train values.\n",
    "\n",
    "Creating the train / test / validation datasets.\n",
    "\"\"\"\n",
    "X_train, X_test, y_train, y_test = train_test_split(x_pca, target, train_size=0.8, stratify=target)\n",
    "print('X_train original shape:', X_train.shape)\n",
    "\n",
    "X_train, X_val, y_train, y_val = train_test_split(X_train, y_train, train_size=0.85, stratify=y_train)\n",
    "print('X_train shape after creating validation set:', X_train.shape)\n",
    "print('X_val shape:', X_val.shape)"
   ]
  },
  {
   "cell_type": "markdown",
   "metadata": {},
   "source": [
    "### XGBoost"
   ]
  },
  {
   "cell_type": "code",
   "execution_count": 34,
   "metadata": {},
   "outputs": [
    {
     "name": "stdout",
     "output_type": "stream",
     "text": [
      "              precision    recall  f1-score   support\n",
      "\n",
      "           0       0.82      0.63      0.71      4565\n",
      "           1       0.58      0.10      0.18       863\n",
      "           2       0.72      0.91      0.81      6452\n",
      "\n",
      "    accuracy                           0.75     11880\n",
      "   macro avg       0.71      0.55      0.56     11880\n",
      "weighted avg       0.75      0.75      0.72     11880\n",
      "\n"
     ]
    }
   ],
   "source": [
    "\"\"\"\n",
    "1 - Untuned XGBoost: objective='multi:softmax', eval_metric='merror', num_class=3, 73.9% DrivenData score\n",
    "2 - Tuned: eta=0.01, max_depth=3, min_child_weight=0, n_estimators=200, scale_pos_weigth=9,\n",
    "    objective='multi:softmax', eval_metric='merror', num_class=3, 75.2% DrivenData score\n",
    "3 - With 30 components PCA (dimension reduction from ~120 columns to 30), and cross-validation, 72%. I didn't submit \n",
    "    it to DrivenData, because you have 3 submissions per day, I'm just experimenting.\n",
    "\"\"\"\n",
    "\n",
    "xgboost_classifier = XGBClassifier(eta=0.075, max_depth=3, min_child_weight=0, n_estimators=200, scale_pos_weigth=5,\n",
    "                                   objective='multi:softmax', eval_metric='merror', num_class=3)\n",
    "\n",
    "xgboost = xgboost_classifier.fit(X_train, y_train.values.ravel())\n",
    "# xgboost = xgboost_classifier.fit(X_resampled, y_resampled.ravel()) # With SMOTE oversampling data\n",
    "\n",
    "expected = y_test\n",
    "predicted = xgboost.predict(X_test)\n",
    "\n",
    "print(metrics.classification_report(expected, predicted))"
   ]
  },
  {
   "cell_type": "code",
   "execution_count": 35,
   "metadata": {},
   "outputs": [
    {
     "name": "stdout",
     "output_type": "stream",
     "text": [
      "              precision    recall  f1-score   support\n",
      "\n",
      "           0       0.82      0.62      0.71      2739\n",
      "           1       0.60      0.11      0.18       518\n",
      "           2       0.72      0.92      0.80      3871\n",
      "\n",
      "    accuracy                           0.74      7128\n",
      "   macro avg       0.71      0.55      0.56      7128\n",
      "weighted avg       0.75      0.74      0.72      7128\n",
      "\n"
     ]
    }
   ],
   "source": [
    "\"\"\"\n",
    "Testing the validation set, which is unseen for the model.\n",
    "\"\"\"\n",
    "\n",
    "validation_expected = y_val\n",
    "validation_predicted = xgboost.predict(X_val)\n",
    "\n",
    "print(metrics.classification_report(validation_expected, validation_predicted))"
   ]
  },
  {
   "cell_type": "code",
   "execution_count": 36,
   "metadata": {},
   "outputs": [
    {
     "data": {
      "text/html": [
       "<div>\n",
       "<style scoped>\n",
       "    .dataframe tbody tr th:only-of-type {\n",
       "        vertical-align: middle;\n",
       "    }\n",
       "\n",
       "    .dataframe tbody tr th {\n",
       "        vertical-align: top;\n",
       "    }\n",
       "\n",
       "    .dataframe thead th {\n",
       "        text-align: right;\n",
       "    }\n",
       "</style>\n",
       "<table border=\"1\" class=\"dataframe\">\n",
       "  <thead>\n",
       "    <tr style=\"text-align: right;\">\n",
       "      <th></th>\n",
       "      <th>feature_name</th>\n",
       "      <th>importance</th>\n",
       "    </tr>\n",
       "  </thead>\n",
       "  <tbody>\n",
       "    <tr>\n",
       "      <th>0</th>\n",
       "      <td>waterpoint_type_group_other</td>\n",
       "      <td>263.982527</td>\n",
       "    </tr>\n",
       "    <tr>\n",
       "      <th>2</th>\n",
       "      <td>quantity_insufficient</td>\n",
       "      <td>159.144926</td>\n",
       "    </tr>\n",
       "    <tr>\n",
       "      <th>13</th>\n",
       "      <td>extraction_type_class_other</td>\n",
       "      <td>144.052858</td>\n",
       "    </tr>\n",
       "    <tr>\n",
       "      <th>1</th>\n",
       "      <td>quantity_enough</td>\n",
       "      <td>108.298299</td>\n",
       "    </tr>\n",
       "    <tr>\n",
       "      <th>23</th>\n",
       "      <td>quantity_seasonal</td>\n",
       "      <td>84.241811</td>\n",
       "    </tr>\n",
       "    <tr>\n",
       "      <th>16</th>\n",
       "      <td>construction_year_70s</td>\n",
       "      <td>68.174820</td>\n",
       "    </tr>\n",
       "    <tr>\n",
       "      <th>18</th>\n",
       "      <td>funder_gov</td>\n",
       "      <td>66.466003</td>\n",
       "    </tr>\n",
       "    <tr>\n",
       "      <th>3</th>\n",
       "      <td>amount_tsh</td>\n",
       "      <td>48.297427</td>\n",
       "    </tr>\n",
       "    <tr>\n",
       "      <th>32</th>\n",
       "      <td>construction_year_80s</td>\n",
       "      <td>45.533163</td>\n",
       "    </tr>\n",
       "    <tr>\n",
       "      <th>28</th>\n",
       "      <td>extraction_type_class_motorpump</td>\n",
       "      <td>41.511333</td>\n",
       "    </tr>\n",
       "  </tbody>\n",
       "</table>\n",
       "</div>"
      ],
      "text/plain": [
       "                       feature_name  importance\n",
       "0       waterpoint_type_group_other  263.982527\n",
       "2             quantity_insufficient  159.144926\n",
       "13      extraction_type_class_other  144.052858\n",
       "1                   quantity_enough  108.298299\n",
       "23                quantity_seasonal   84.241811\n",
       "16            construction_year_70s   68.174820\n",
       "18                       funder_gov   66.466003\n",
       "3                        amount_tsh   48.297427\n",
       "32            construction_year_80s   45.533163\n",
       "28  extraction_type_class_motorpump   41.511333"
      ]
     },
     "execution_count": 36,
     "metadata": {},
     "output_type": "execute_result"
    }
   ],
   "source": [
    "\"\"\"\n",
    "Get feature importances.\n",
    "Of course, this works without PCA, so when we know the original columns.\n",
    "\n",
    "\"The Gain is the most relevant attribute to interpret the relative importance of each feature.\"\n",
    "\"\"\"\n",
    "\n",
    "xgb_fi = xgboost.get_booster().get_score(importance_type=\"gain\")\n",
    "\n",
    "xgboost_feature_importances = pd.DataFrame(list(xgb_fi.items()), columns=['feature_name', 'importance'])\n",
    "\n",
    "xgboost_feature_importances.sort_values(by=['importance'], ascending=False).head(10)"
   ]
  },
  {
   "cell_type": "code",
   "execution_count": null,
   "metadata": {
    "scrolled": false
   },
   "outputs": [],
   "source": [
    "\"\"\"\n",
    "GridSearchCV, the most computation expensive part of the process. With a relatively small amount of parameters, it lifted\n",
    "the performance from 73.9% to 75.2%.\n",
    "\"\"\"\n",
    "\n",
    "xgboost = XGBClassifier(objective='multi:softmax', eval_metric='merror', num_class=3, n_jobs=-1)\n",
    "\n",
    "params = {'n_estimators': [100, 200, 300],\n",
    "          'max_depth': [5, 8, 15],\n",
    "          'learning_rate': [0.01, 0.075, 0.1, 0.2],\n",
    "          'min_child_weight': [3, 5, 7]\n",
    "         }\n",
    "\n",
    "grid_search = GridSearchCV(estimator=xgboost, cv=4, param_grid=params, n_jobs=-1, verbose=10)\n",
    "\n",
    "grid_search.fit(X_train, y_train.values.ravel())\n",
    "\n",
    "print(grid_search.best_score_)\n",
    "print(grid_search.best_params_)"
   ]
  },
  {
   "cell_type": "code",
   "execution_count": null,
   "metadata": {},
   "outputs": [],
   "source": [
    "\"\"\"\n",
    "Cross validation took about 5 minutes, and it showed a 74% accuracy. We can see each fold, the model is straight, because\n",
    "it keeps bringing the same result.\n",
    "\"\"\"\n",
    "\n",
    "cv = RepeatedStratifiedKFold(n_splits=5, n_repeats=3, random_state=1)\n",
    "\n",
    "scores = cross_val_score(xgboost, X_train, y_train, cv=cv, verbose=10)\n",
    "\n",
    "print(\"Accuracy: %0.2f (+/- %0.2f)\" % (scores.mean(), scores.std() * 2))"
   ]
  },
  {
   "cell_type": "markdown",
   "metadata": {},
   "source": [
    "### Random Forest"
   ]
  },
  {
   "cell_type": "code",
   "execution_count": 37,
   "metadata": {},
   "outputs": [
    {
     "name": "stdout",
     "output_type": "stream",
     "text": [
      "              precision    recall  f1-score   support\n",
      "\n",
      "           0       0.85      0.61      0.71      4565\n",
      "           1       0.56      0.06      0.10       863\n",
      "           2       0.71      0.94      0.81      6452\n",
      "\n",
      "    accuracy                           0.75     11880\n",
      "   macro avg       0.71      0.54      0.54     11880\n",
      "weighted avg       0.75      0.75      0.72     11880\n",
      "\n"
     ]
    }
   ],
   "source": [
    "clf = ensemble.RandomForestClassifier(n_estimators=200, max_depth=10, min_samples_split=2)\n",
    "clf = clf.fit(X_train, y_train)\n",
    "\n",
    "expected = y_test\n",
    "predicted = clf.predict(X_test)\n",
    "\n",
    "print(metrics.classification_report(expected, predicted))"
   ]
  },
  {
   "cell_type": "code",
   "execution_count": null,
   "metadata": {},
   "outputs": [],
   "source": [
    "params = {'n_estimators' : [10, 50, 200],\n",
    "          'min_samples_split' : [2, 3, 4],\n",
    "          'max_depth': [3, 5, 8, 10]}\n",
    "\n",
    "grid_search = GridSearchCV(estimator=clf, cv=3, param_grid=params, n_jobs=-1 verbose=10)\n",
    "\n",
    "grid_search.fit(X_train, y_train.values.ravel())\n",
    "\n",
    "print(grid_search.best_score_)\n",
    "print(grid_search.best_params_)"
   ]
  },
  {
   "cell_type": "markdown",
   "metadata": {},
   "source": [
    "### SVM"
   ]
  },
  {
   "cell_type": "code",
   "execution_count": null,
   "metadata": {},
   "outputs": [],
   "source": [
    "\"\"\"\n",
    "SVM clearly not the best fit for this problem, because of the 100+ columns.\n",
    "\"\"\"\n",
    "\n",
    "svc = svm.SVC()\n",
    "svc = svc.fit(X_train, y_train)\n",
    "\n",
    "expected = y_test\n",
    "predicted = svc.predict(X_test)\n",
    "\n",
    "print(metrics.classification_report(expected, predicted))"
   ]
  },
  {
   "cell_type": "markdown",
   "metadata": {},
   "source": [
    "### Logistic regression"
   ]
  },
  {
   "cell_type": "code",
   "execution_count": 38,
   "metadata": {},
   "outputs": [
    {
     "name": "stdout",
     "output_type": "stream",
     "text": [
      "              precision    recall  f1-score   support\n",
      "\n",
      "           0       0.78      0.61      0.68      4565\n",
      "           1       0.26      0.01      0.02       863\n",
      "           2       0.70      0.90      0.79      6452\n",
      "\n",
      "    accuracy                           0.72     11880\n",
      "   macro avg       0.58      0.51      0.50     11880\n",
      "weighted avg       0.70      0.72      0.69     11880\n",
      "\n"
     ]
    }
   ],
   "source": [
    "\"\"\"\n",
    "It doesn't perform well.\n",
    "\"\"\"\n",
    "\n",
    "logreg = LogisticRegression(multi_class='auto', solver='newton-cg', max_iter=50, n_jobs=-1)\n",
    "logreg.fit(X_train, y_train)\n",
    "\n",
    "expected = y_test\n",
    "predicted = logreg.predict(X_test)\n",
    "\n",
    "print(metrics.classification_report(expected, predicted))"
   ]
  },
  {
   "cell_type": "code",
   "execution_count": null,
   "metadata": {},
   "outputs": [],
   "source": [
    "\"\"\"\n",
    "GridSearch\n",
    "\"\"\"\n",
    "\n",
    "params = {'solver': ['newton-cg', 'sag', 'saga', 'lbfgs'],\n",
    "          'max_iter': [50, 150, 200]\n",
    "         }\n",
    "\n",
    "grid_search = GridSearchCV(estimator=logreg, cv=5, param_grid=params, n_jobs=-1 verbose=10)\n",
    "\n",
    "grid_search.fit(X_train, y_train.values.ravel())\n",
    "\n",
    "print(grid_search.best_score_)\n",
    "print(grid_search.best_params_)"
   ]
  },
  {
   "cell_type": "markdown",
   "metadata": {},
   "source": [
    "### Gradient Boosting Classifier"
   ]
  },
  {
   "cell_type": "code",
   "execution_count": 39,
   "metadata": {
    "scrolled": true
   },
   "outputs": [
    {
     "name": "stdout",
     "output_type": "stream",
     "text": [
      "      Iter       Train Loss   Remaining Time \n",
      "         1       33369.2148           16.46m\n",
      "         2       31287.2605           17.02m\n",
      "         3       29545.9655           18.20m\n",
      "         4       28040.9708           17.90m\n",
      "         5       26702.7998           17.82m\n",
      "         6       25532.2280           17.96m\n",
      "         7       24497.6548           18.12m\n",
      "         8       23572.8610           17.89m\n",
      "         9       22752.6387           17.97m\n",
      "        10       21987.2140           17.67m\n",
      "        11       21311.4331           17.65m\n",
      "        12       20687.4989           17.48m\n",
      "        13       20126.3307           16.93m\n",
      "        14       19621.3449           16.46m\n",
      "        15       19155.8965           15.94m\n",
      "        16       18689.5576           15.58m\n",
      "        17       18282.6314           15.29m\n",
      "        18       17880.4935           15.00m\n",
      "        19       17548.9996           14.70m\n",
      "        20       17224.4807           14.70m\n",
      "        21       16928.6945           14.68m\n",
      "        22       16626.8833           14.68m\n",
      "        23       16380.7404           14.61m\n",
      "        24       16145.4878           14.59m\n",
      "        25       15898.7687           14.56m\n",
      "        26       15667.3149           14.52m\n",
      "        27       15450.8643           14.46m\n",
      "        28       15217.2979           14.39m\n",
      "        29       15026.9192           14.10m\n",
      "        30       14840.5859           13.76m\n",
      "        31       14660.0277           13.52m\n",
      "        32       14501.3463           13.16m\n",
      "        33       14340.6309           12.82m\n",
      "        34       14184.4123           12.50m\n",
      "        35       14030.8085           12.18m\n",
      "        36       13875.9756           11.87m\n",
      "        37       13764.8802           11.53m\n",
      "        38       13653.1708           11.25m\n",
      "        39       13535.3103           10.94m\n",
      "        40       13411.4736           10.64m\n",
      "        41       13291.4996           10.38m\n",
      "        42       13193.1335           10.07m\n",
      "        43       13093.3296            9.77m\n",
      "        44       12997.2217            9.49m\n",
      "        45       12896.5950            9.21m\n",
      "        46       12813.5807            8.94m\n",
      "        47       12732.8693            8.67m\n",
      "        48       12634.6259            8.41m\n",
      "        49       12536.6027            8.17m\n",
      "        50       12469.6903            7.91m\n",
      "        51       12416.9692            7.65m\n",
      "        52       12326.6847            7.42m\n",
      "        53       12279.2895            7.17m\n",
      "        54       12221.5559            6.94m\n",
      "        55       12179.8199            6.72m\n",
      "        56       12130.1607            6.49m\n",
      "        57       12059.6677            6.29m\n",
      "        58       12016.5056            6.07m\n",
      "        59       11945.3164            5.87m\n",
      "        60       11892.3917            5.67m\n",
      "        61       11842.7879            5.49m\n",
      "        62       11793.8006            5.30m\n",
      "        63       11735.9992            5.12m\n",
      "        64       11695.9182            4.93m\n",
      "        65       11649.4235            4.75m\n",
      "        66       11602.1438            4.57m\n",
      "        67       11530.7925            4.41m\n",
      "        68       11465.5396            4.24m\n",
      "        69       11412.7017            4.08m\n",
      "        70       11380.8310            3.91m\n",
      "        71       11308.8364            3.76m\n",
      "        72       11253.9824            3.61m\n",
      "        73       11178.1883            3.47m\n",
      "        74       11128.3148            3.32m\n",
      "        75       11055.1578            3.17m\n",
      "        76       10989.5717            3.04m\n",
      "        77       10951.6746            2.89m\n",
      "        78       10925.8696            2.74m\n",
      "        79       10889.9157            2.60m\n",
      "        80       10828.9317            2.46m\n",
      "        81       10782.8007            2.33m\n",
      "        82       10759.4830            2.19m\n",
      "        83       10725.6031            2.06m\n",
      "        84       10676.0514            1.92m\n",
      "        85       10638.4963            1.80m\n",
      "        86       10602.1319            1.67m\n",
      "        87       10554.5957            1.54m\n",
      "        88       10532.5390            1.41m\n",
      "        89       10502.5272            1.28m\n",
      "        90       10481.9594            1.16m\n",
      "        91       10442.0598            1.04m\n",
      "        92       10412.3356           55.10s\n",
      "        93       10378.8167           48.03s\n",
      "        94       10354.6886           40.97s\n",
      "        95       10323.1963           33.95s\n",
      "        96       10291.0179           27.00s\n",
      "        97       10261.2044           20.13s\n",
      "        98       10239.3023           13.33s\n",
      "        99       10197.9993            6.64s\n",
      "       100       10181.5953            0.00s\n",
      "              precision    recall  f1-score   support\n",
      "\n",
      "           0       0.84      0.77      0.80      4565\n",
      "           1       0.53      0.29      0.38       863\n",
      "           2       0.80      0.89      0.84      6452\n",
      "\n",
      "    accuracy                           0.80     11880\n",
      "   macro avg       0.72      0.65      0.67     11880\n",
      "weighted avg       0.79      0.80      0.79     11880\n",
      "\n"
     ]
    }
   ],
   "source": [
    "\"\"\"\n",
    "This was the best model, scored 80.11% on the DrivenData submission. It is really slow though.\n",
    "\"\"\"\n",
    "\n",
    "gradient = GradientBoostingClassifier(n_estimators=100, learning_rate=0.075, max_depth=14,\n",
    "                                     min_samples_leaf=16, verbose=5)\n",
    "\n",
    "gradient = gradient.fit(X_train, y_train)\n",
    "\n",
    "expected = y_test\n",
    "predicted = gradient.predict(X_test)\n",
    "\n",
    "print(metrics.classification_report(expected, predicted))"
   ]
  },
  {
   "cell_type": "code",
   "execution_count": 40,
   "metadata": {},
   "outputs": [
    {
     "name": "stdout",
     "output_type": "stream",
     "text": [
      "              precision    recall  f1-score   support\n",
      "\n",
      "           0       0.84      0.76      0.79      2739\n",
      "           1       0.52      0.27      0.36       518\n",
      "           2       0.79      0.89      0.84      3871\n",
      "\n",
      "    accuracy                           0.79      7128\n",
      "   macro avg       0.71      0.64      0.66      7128\n",
      "weighted avg       0.79      0.79      0.79      7128\n",
      "\n"
     ]
    }
   ],
   "source": [
    "\"\"\"\n",
    "Testing the validation set, which is unseen for the model.\n",
    "\"\"\"\n",
    "\n",
    "validation_expected = y_val\n",
    "validation_predicted = gradient.predict(X_val)\n",
    "\n",
    "print(metrics.classification_report(validation_expected, validation_predicted))"
   ]
  },
  {
   "cell_type": "code",
   "execution_count": null,
   "metadata": {},
   "outputs": [],
   "source": [
    "\"\"\"\n",
    "RandomizedSearchCV, to make it faster than GridSearchCV.\n",
    "\"\"\"\n",
    "gradient = GradientBoostingClassifier(verbose=5)\n",
    "\n",
    "params = {'n_estimators': [100, 150, 200, 250, 300],\n",
    "          'max_depth': [5, 8, 10, 15, 20],\n",
    "          'learning_rate': [0.075, 0.01, 0.05, 0.1],\n",
    "          'min_samples_leaf': [10, 15, 20, 25]\n",
    "         }\n",
    "\n",
    "n_iter_search = 10\n",
    "random_search = RandomizedSearchCV(gradient, param_distributions=params,\n",
    "                                   n_iter=n_iter_search, n_jobs=-1, cv=3, verbose=11)\n",
    "\n",
    "random_search.fit(X_train, y_train.values.ravel())\n",
    "\n",
    "print(random_search.best_score_)\n",
    "print(random_search.best_params_)"
   ]
  },
  {
   "cell_type": "markdown",
   "metadata": {},
   "source": [
    "### Hist Gradient Boosing Classifier"
   ]
  },
  {
   "cell_type": "code",
   "execution_count": 41,
   "metadata": {},
   "outputs": [
    {
     "name": "stdout",
     "output_type": "stream",
     "text": [
      "              precision    recall  f1-score   support\n",
      "\n",
      "           0       0.84      0.75      0.79      4565\n",
      "           1       0.56      0.27      0.36       863\n",
      "           2       0.78      0.90      0.84      6452\n",
      "\n",
      "    accuracy                           0.79     11880\n",
      "   macro avg       0.73      0.64      0.66     11880\n",
      "weighted avg       0.79      0.79      0.78     11880\n",
      "\n"
     ]
    }
   ],
   "source": [
    "\"\"\"\n",
    "Histogram-based Gradient Boosting Classification Tree.\n",
    "\n",
    "This estimator is much faster than GradientBoostingClassifier for big datasets (n_samples >= 10 000).\n",
    "\"\"\"\n",
    "\n",
    "hist_gradient = HistGradientBoostingClassifier(learning_rate=0.2, loss='categorical_crossentropy', \n",
    "                                               max_depth=8, min_samples_leaf=15)\n",
    "\n",
    "hist_gradient = hist_gradient.fit(X_train, y_train)\n",
    "\n",
    "expected = y_test\n",
    "predicted = hist_gradient.predict(X_test)\n",
    "\n",
    "print(metrics.classification_report(expected, predicted))"
   ]
  },
  {
   "cell_type": "code",
   "execution_count": 42,
   "metadata": {},
   "outputs": [
    {
     "name": "stdout",
     "output_type": "stream",
     "text": [
      "              precision    recall  f1-score   support\n",
      "\n",
      "           0       0.84      0.74      0.78      2739\n",
      "           1       0.57      0.25      0.35       518\n",
      "           2       0.77      0.90      0.83      3871\n",
      "\n",
      "    accuracy                           0.79      7128\n",
      "   macro avg       0.73      0.63      0.66      7128\n",
      "weighted avg       0.79      0.79      0.78      7128\n",
      "\n"
     ]
    }
   ],
   "source": [
    "\"\"\"\n",
    "Testing the validation set, which is unseen for the model.\n",
    "\"\"\"\n",
    "\n",
    "validation_expected = y_val\n",
    "validation_predicted = hist_gradient.predict(X_val)\n",
    "\n",
    "print(metrics.classification_report(validation_expected, validation_predicted))"
   ]
  },
  {
   "cell_type": "code",
   "execution_count": null,
   "metadata": {},
   "outputs": [],
   "source": [
    "\"\"\"\n",
    "GridSearchCV, the most computation expensive part of the process.\n",
    "\"\"\"\n",
    "\n",
    "hist_gradient = HistGradientBoostingClassifier(verbose=2)\n",
    "\n",
    "params = {'max_iter': [100, 150, 200],\n",
    "          'loss': ['categorical_crossentropy'],\n",
    "          'max_depth': [5, 8, 15],\n",
    "          'learning_rate': [0.01, 0.75, 0.1, 0.2],\n",
    "          'min_samples_leaf': [5, 15, 20]\n",
    "         }\n",
    "\n",
    "grid_search = GridSearchCV(estimator=hist_gradient, cv=4, param_grid=params, n_jobs=-1, verbose=10)\n",
    "\n",
    "grid_search.fit(X_train, y_train.values.ravel())\n",
    "\n",
    "print(grid_search.best_score_)\n",
    "print(grid_search.best_params_)"
   ]
  },
  {
   "cell_type": "markdown",
   "metadata": {},
   "source": [
    "### LightGBM"
   ]
  },
  {
   "cell_type": "code",
   "execution_count": 43,
   "metadata": {},
   "outputs": [
    {
     "name": "stderr",
     "output_type": "stream",
     "text": [
      "C:\\Anaconda3\\lib\\site-packages\\lightgbm\\engine.py:148: UserWarning: Found `num_iterations` in params. Will use it instead of argument\n",
      "  warnings.warn(\"Found `{}` in params. Will use it instead of argument\".format(alias))\n"
     ]
    },
    {
     "name": "stdout",
     "output_type": "stream",
     "text": [
      "              precision    recall  f1-score   support\n",
      "\n",
      "           0       0.85      0.73      0.78      4565\n",
      "           1       0.61      0.24      0.34       863\n",
      "           2       0.77      0.91      0.84      6452\n",
      "\n",
      "    accuracy                           0.79     11880\n",
      "   macro avg       0.74      0.63      0.65     11880\n",
      "weighted avg       0.79      0.79      0.78     11880\n",
      "\n"
     ]
    }
   ],
   "source": [
    "\"\"\"\n",
    "LightGBM is another fast tree based gradient boosting algorithm, which supports GPU, and parallel learning.\n",
    "\"\"\"\n",
    "\n",
    "lgbm = LGBMClassifier(objective='multiclass', learning_rate=0.1, num_iterations=200, num_leaves=50, random_state=123)\n",
    "\n",
    "lgbm.fit(X_train, y_train)\n",
    "\n",
    "expected = y_test\n",
    "predicted = lgbm.predict(X_test)\n",
    "\n",
    "print(metrics.classification_report(expected, predicted))"
   ]
  },
  {
   "cell_type": "code",
   "execution_count": 44,
   "metadata": {},
   "outputs": [
    {
     "name": "stdout",
     "output_type": "stream",
     "text": [
      "              precision    recall  f1-score   support\n",
      "\n",
      "           0       0.85      0.72      0.78      2739\n",
      "           1       0.61      0.23      0.34       518\n",
      "           2       0.77      0.91      0.83      3871\n",
      "\n",
      "    accuracy                           0.79      7128\n",
      "   macro avg       0.74      0.62      0.65      7128\n",
      "weighted avg       0.79      0.79      0.78      7128\n",
      "\n"
     ]
    }
   ],
   "source": [
    "\"\"\"\n",
    "Testing the validation set, which is unseen for the model.\n",
    "\"\"\"\n",
    "\n",
    "validation_expected = y_val\n",
    "validation_predicted = lgbm.predict(X_val)\n",
    "\n",
    "print(metrics.classification_report(validation_expected, validation_predicted))"
   ]
  },
  {
   "cell_type": "code",
   "execution_count": null,
   "metadata": {},
   "outputs": [],
   "source": [
    "\"\"\"\n",
    "GridSearchCV, the most computation expensive part of the process.\n",
    "\"\"\"\n",
    "\n",
    "lgbm = LGBMClassifier(objective='multiclass', num_threads=2, verbose=2, random_state=123)\n",
    "\n",
    "params = {'num_iterations ': [100, 150, 200],\n",
    "          'max_depth': [5, 8, 15],\n",
    "          'learning_rate': [0.01, 0.75, 0.1, 0.2],\n",
    "          'num_leaves' : [25, 40, 50]\n",
    "         }\n",
    "\n",
    "grid_search = GridSearchCV(estimator=lgbm, cv=4, param_grid=params, n_jobs=-1, verbose=5) # n_jobs=-1 = use all the CPU cores\n",
    "\n",
    "grid_search.fit(X_train, y_train.values.ravel())\n",
    "\n",
    "print(grid_search.best_score_)\n",
    "print(grid_search.best_params_)"
   ]
  },
  {
   "cell_type": "markdown",
   "metadata": {},
   "source": [
    "### Keras wrapper for Scikit-learn"
   ]
  },
  {
   "cell_type": "code",
   "execution_count": 45,
   "metadata": {},
   "outputs": [
    {
     "data": {
      "text/plain": [
       "array([0.86752577, 4.58583106, 0.61378556])"
      ]
     },
     "execution_count": 45,
     "metadata": {},
     "output_type": "execute_result"
    }
   ],
   "source": [
    "\"\"\"\n",
    "For imbalanced datasets like this.\n",
    "\"\"\"\n",
    "\n",
    "class_weights = class_weight.compute_class_weight('balanced',\n",
    "                                                 np.unique(y_train),\n",
    "                                                 y_train)\n",
    "class_weights"
   ]
  },
  {
   "cell_type": "code",
   "execution_count": 46,
   "metadata": {},
   "outputs": [
    {
     "name": "stdout",
     "output_type": "stream",
     "text": [
      "Train on 40392 samples\n",
      "Epoch 1/30\n",
      "40392/40392 [==============================] - 20s 485us/sample - loss: 2.2383 - accuracy: 0.5833\n",
      "Epoch 2/30\n",
      "40392/40392 [==============================] - 19s 474us/sample - loss: 0.9307 - accuracy: 0.6611\n",
      "Epoch 3/30\n",
      "40392/40392 [==============================] - 19s 460us/sample - loss: 0.8250 - accuracy: 0.6753\n",
      "Epoch 4/30\n",
      "40392/40392 [==============================] - 17s 417us/sample - loss: 0.7509 - accuracy: 0.6836\n",
      "Epoch 5/30\n",
      "40392/40392 [==============================] - 16s 408us/sample - loss: 0.7546 - accuracy: 0.6926\n",
      "Epoch 6/30\n",
      "40392/40392 [==============================] - 14s 350us/sample - loss: 0.7253 - accuracy: 0.6984\n",
      "Epoch 7/30\n",
      "40392/40392 [==============================] - 13s 318us/sample - loss: 0.7321 - accuracy: 0.7004\n",
      "Epoch 8/30\n",
      "40392/40392 [==============================] - 15s 361us/sample - loss: 0.7157 - accuracy: 0.7054\n",
      "Epoch 9/30\n",
      "40392/40392 [==============================] - 14s 344us/sample - loss: 0.7131 - accuracy: 0.7055\n",
      "Epoch 10/30\n",
      "40392/40392 [==============================] - 14s 338us/sample - loss: 0.7134 - accuracy: 0.7071\n",
      "Epoch 11/30\n",
      "40392/40392 [==============================] - 14s 354us/sample - loss: 0.7218 - accuracy: 0.7087\n",
      "Epoch 12/30\n",
      "40392/40392 [==============================] - 13s 323us/sample - loss: 0.7049 - accuracy: 0.7097\n",
      "Epoch 13/30\n",
      "40392/40392 [==============================] - 14s 346us/sample - loss: 0.7069 - accuracy: 0.7125\n",
      "Epoch 14/30\n",
      "40392/40392 [==============================] - 16s 396us/sample - loss: 0.7137 - accuracy: 0.7112\n",
      "Epoch 15/30\n",
      "40392/40392 [==============================] - 16s 397us/sample - loss: 0.6993 - accuracy: 0.7132\n",
      "Epoch 16/30\n",
      "40392/40392 [==============================] - 16s 386us/sample - loss: 0.6952 - accuracy: 0.7150\n",
      "Epoch 17/30\n",
      "40392/40392 [==============================] - 17s 416us/sample - loss: 0.6972 - accuracy: 0.7137\n",
      "Epoch 18/30\n",
      "40392/40392 [==============================] - 17s 425us/sample - loss: 0.6916 - accuracy: 0.7165\n",
      "Epoch 19/30\n",
      "40392/40392 [==============================] - 14s 353us/sample - loss: 0.6927 - accuracy: 0.7165\n",
      "Epoch 20/30\n",
      "40392/40392 [==============================] - 17s 418us/sample - loss: 0.6937 - accuracy: 0.7166\n",
      "Epoch 21/30\n",
      "40392/40392 [==============================] - 17s 424us/sample - loss: 0.6915 - accuracy: 0.7166\n",
      "Epoch 22/30\n",
      "40392/40392 [==============================] - 16s 385us/sample - loss: 0.6901 - accuracy: 0.7186\n",
      "Epoch 23/30\n",
      "40392/40392 [==============================] - 21s 525us/sample - loss: 0.6870 - accuracy: 0.7209\n",
      "Epoch 24/30\n",
      "40392/40392 [==============================] - 19s 478us/sample - loss: 0.6886 - accuracy: 0.7204\n",
      "Epoch 25/30\n",
      "40392/40392 [==============================] - 17s 421us/sample - loss: 0.6971 - accuracy: 0.7215\n",
      "Epoch 26/30\n",
      "40392/40392 [==============================] - 17s 411us/sample - loss: 0.6838 - accuracy: 0.7204\n",
      "Epoch 27/30\n",
      "40392/40392 [==============================] - 21s 523us/sample - loss: 0.6852 - accuracy: 0.7229\n",
      "Epoch 28/30\n",
      "40392/40392 [==============================] - 16s 386us/sample - loss: 0.6831 - accuracy: 0.7237\n",
      "Epoch 29/30\n",
      "40392/40392 [==============================] - 20s 489us/sample - loss: 0.6817 - accuracy: 0.7229\n",
      "Epoch 30/30\n",
      "40392/40392 [==============================] - 20s 486us/sample - loss: 0.6812 - accuracy: 0.7249\n",
      "WARNING:tensorflow:Falling back from v2 loop because of error: Failed to find data adapter that can handle input: <class 'pandas.core.frame.DataFrame'>, <class 'NoneType'>\n",
      "11880/11880 [==============================] - 3s 247us/sample\n",
      "              precision    recall  f1-score   support\n",
      "\n",
      "           0       0.74      0.62      0.68      4565\n",
      "           1       0.56      0.04      0.07       863\n",
      "           2       0.71      0.88      0.78      6452\n",
      "\n",
      "    accuracy                           0.72     11880\n",
      "   macro avg       0.67      0.51      0.51     11880\n",
      "weighted avg       0.71      0.72      0.69     11880\n",
      "\n"
     ]
    }
   ],
   "source": [
    "\"\"\"\n",
    "0    15520\n",
    "1     2936\n",
    "2    21936\n",
    "\n",
    "Manual class weight wasn't as good, as 'balanced'.\n",
    "\"It basically means replicating the smaller class until you have as many samples as in the larger one, but in an implicit way.\"\n",
    "\n",
    "It needs more tuning / layers, because it stucks at 71% + set an early stopping.\n",
    "\"\"\"\n",
    "\n",
    "def model():\n",
    "    \n",
    "    model = Sequential()\n",
    "    model.add(Dense(8, input_dim=X_train.shape[1], activation='relu'))\n",
    "    model.add(Dense(8))\n",
    "    model.add(Dense(3, activation='softmax'))\n",
    "    \n",
    "    model.compile(loss='categorical_crossentropy', optimizer='adam', metrics=['accuracy'])\n",
    "    \n",
    "    return model\n",
    "\n",
    "estimator = KerasClassifier(build_fn=model, epochs=30, batch_size=5, verbose=1)\n",
    "estimator.fit(X_train.values, y_train.values, class_weight=class_weights)\n",
    "\n",
    "expected = y_test\n",
    "predicted = estimator.predict(X_test)\n",
    "\n",
    "print(metrics.classification_report(expected, predicted))"
   ]
  },
  {
   "cell_type": "markdown",
   "metadata": {},
   "source": [
    "### MLPClassifier - Neural network for scikit-learn"
   ]
  },
  {
   "cell_type": "code",
   "execution_count": 47,
   "metadata": {},
   "outputs": [
    {
     "name": "stdout",
     "output_type": "stream",
     "text": [
      "              precision    recall  f1-score   support\n",
      "\n",
      "           0       0.37      0.37      0.37      4565\n",
      "           1       0.08      0.06      0.07       863\n",
      "           2       0.53      0.56      0.55      6452\n",
      "\n",
      "    accuracy                           0.45     11880\n",
      "   macro avg       0.33      0.33      0.33     11880\n",
      "weighted avg       0.44      0.45      0.44     11880\n",
      "\n"
     ]
    }
   ],
   "source": [
    "\"\"\"\n",
    "It needs tuning.\n",
    "\"\"\"\n",
    "\n",
    "from sklearn.neural_network import MLPClassifier\n",
    "\n",
    "mlp = MLPClassifier(solver='lbfgs', alpha=0.0001,\n",
    "                     hidden_layer_sizes=(50, 50, 50, 50), max_iter=500, random_state=1, verbose=10)\n",
    "mlp.out_activation_ = 'softmax'\n",
    "\n",
    "mlp.fit(X_train, y_train)\n",
    "\n",
    "expected = y_test\n",
    "predicted = mlp.predict(X_test)\n",
    "\n",
    "print(metrics.classification_report(expected, predicted))"
   ]
  },
  {
   "cell_type": "markdown",
   "metadata": {},
   "source": [
    "### VotingClassifier"
   ]
  },
  {
   "cell_type": "code",
   "execution_count": 49,
   "metadata": {
    "scrolled": true
   },
   "outputs": [
    {
     "name": "stderr",
     "output_type": "stream",
     "text": [
      "C:\\Anaconda3\\lib\\site-packages\\lightgbm\\engine.py:148: UserWarning: Found `num_iterations` in params. Will use it instead of argument\n",
      "  warnings.warn(\"Found `{}` in params. Will use it instead of argument\".format(alias))\n"
     ]
    },
    {
     "name": "stdout",
     "output_type": "stream",
     "text": [
      "      Iter       Train Loss   Remaining Time \n",
      "         1       33368.7480           14.45m\n",
      "         2       31288.4000           14.12m\n",
      "         3       29545.8449           13.30m\n",
      "         4       28040.6424           12.77m\n",
      "         5       26706.5589           12.75m\n",
      "         6       25547.2156           12.50m\n",
      "         7       24516.4368           12.18m\n",
      "         8       23578.1669           11.97m\n",
      "         9       22756.1825           11.72m\n",
      "        10       21989.8351           11.58m\n",
      "        11       21302.6141           11.42m\n",
      "        12       20675.5112           11.39m\n",
      "        13       20112.2442           11.35m\n",
      "        14       19599.8916           11.24m\n",
      "        15       19122.8282           11.21m\n",
      "        16       18698.1707           11.05m\n",
      "        17       18287.5867           10.82m\n",
      "        18       17900.1732           10.61m\n",
      "        19       17544.2573           10.40m\n",
      "        20       17234.3065           10.25m\n",
      "        21       16909.7891           10.19m\n",
      "        22       16637.6857           10.03m\n",
      "        23       16364.7569            9.82m\n",
      "        24       16142.0069            9.68m\n",
      "        25       15895.3064            9.49m\n",
      "        26       15656.0962            9.31m\n",
      "        27       15442.1761            9.13m\n",
      "        28       15241.7750            8.95m\n",
      "        29       15036.5023            8.79m\n",
      "        30       14851.7243            8.69m\n",
      "        31       14666.0694            8.64m\n",
      "        32       14519.9718            8.49m\n",
      "        33       14355.4732            8.44m\n",
      "        34       14198.8266            8.33m\n",
      "        35       14063.4562            8.19m\n",
      "        36       13912.0890            8.07m\n",
      "        37       13768.1649            7.93m\n",
      "        38       13647.0752            7.80m\n",
      "        39       13520.7946            7.64m\n",
      "        40       13419.2150            7.50m\n",
      "        41       13313.1083            7.35m\n",
      "        42       13222.3768            7.17m\n",
      "        43       13130.6139            6.99m\n",
      "        44       13006.3371            6.83m\n",
      "        45       12892.8469            6.67m\n",
      "        46       12806.1970            6.50m\n",
      "        47       12714.5892            6.33m\n",
      "        48       12636.9367            6.19m\n",
      "        49       12558.3476            6.08m\n",
      "        50       12499.7061            5.92m\n",
      "        51       12407.9181            5.79m\n",
      "        52       12346.8832            5.64m\n",
      "        53       12245.0889            5.50m\n",
      "        54       12192.5802            5.33m\n",
      "        55       12132.8334            5.19m\n",
      "        56       12049.7784            5.05m\n",
      "        57       11973.4039            4.91m\n",
      "        58       11912.7240            4.75m\n",
      "        59       11864.6723            4.61m\n",
      "        60       11825.9931            4.47m\n",
      "        61       11777.3461            4.34m\n",
      "        62       11731.1354            4.19m\n",
      "        63       11667.9255            4.07m\n",
      "        64       11618.8220            3.93m\n",
      "        65       11572.8652            3.79m\n",
      "        66       11517.5252            3.66m\n",
      "        67       11476.5205            3.52m\n",
      "        68       11417.7597            3.41m\n",
      "        69       11369.2377            3.28m\n",
      "        70       11340.0228            3.15m\n",
      "        71       11293.8589            3.02m\n",
      "        72       11267.4807            2.89m\n",
      "        73       11218.3785            2.77m\n",
      "        74       11168.8622            2.65m\n",
      "        75       11111.4026            2.54m\n",
      "        76       11079.1294            2.43m\n",
      "        77       11047.1581            2.32m\n",
      "        78       10992.6653            2.21m\n",
      "        79       10949.0839            2.10m\n",
      "        80       10885.0627            1.99m\n",
      "        81       10844.6664            1.88m\n",
      "        82       10795.7189            1.78m\n",
      "        83       10729.3304            1.68m\n",
      "        84       10675.8214            1.58m\n",
      "        85       10632.7560            1.47m\n",
      "        86       10594.7292            1.37m\n",
      "        87       10551.9284            1.27m\n",
      "        88       10507.1864            1.17m\n",
      "        89       10454.0239            1.07m\n",
      "        90       10421.9148           57.85s\n",
      "        91       10381.4781           51.90s\n",
      "        92       10331.7374           45.99s\n",
      "        93       10283.1388           40.15s\n",
      "        94       10229.6659           34.30s\n",
      "        95       10202.1828           28.46s\n",
      "        96       10162.7026           22.70s\n",
      "        97       10126.5604           16.95s\n",
      "        98       10082.7785           11.26s\n",
      "        99       10058.5937            5.60s\n",
      "       100       10029.7538            0.00s\n"
     ]
    },
    {
     "data": {
      "text/plain": [
       "0.7984848484848485"
      ]
     },
     "execution_count": 49,
     "metadata": {},
     "output_type": "execute_result"
    }
   ],
   "source": [
    "\"\"\"\n",
    "You can combine your best predictors as a VotingClassifier, which can enhance the performance.\n",
    "\n",
    "26/01/2020 - The hist_gradient / lgbm / gradient combination made the best result yet: 80.35%!\n",
    "\"\"\"\n",
    "\n",
    "estimators = [('hist_gradient', hist_gradient), ('lightgbm', lgbm), ('gradient', gradient)]\n",
    "\n",
    "ensemble = VotingClassifier(estimators, voting='hard', verbose=10)\n",
    "\n",
    "ensemble.fit(X_train, y_train)\n",
    "ensemble.score(X_test, y_test)"
   ]
  },
  {
   "cell_type": "markdown",
   "metadata": {},
   "source": [
    "### Create the submission"
   ]
  },
  {
   "cell_type": "code",
   "execution_count": 50,
   "metadata": {},
   "outputs": [
    {
     "name": "stdout",
     "output_type": "stream",
     "text": [
      "<class 'pandas.core.frame.DataFrame'>\n",
      "RangeIndex: 14850 entries, 0 to 14849\n",
      "Data columns (total 2 columns):\n",
      "id              14850 non-null int64\n",
      "status_group    14850 non-null object\n",
      "dtypes: int64(1), object(1)\n",
      "memory usage: 232.2+ KB\n"
     ]
    }
   ],
   "source": [
    "\"\"\"\n",
    "The 'status_group_nums' should be changed with the model we want to predict.\n",
    "\"\"\"\n",
    "\n",
    "submission = pd.read_csv('https://raw.githubusercontent.com/budapestpy-workshops/workshops/master/09_pump_it_up/SubmissionFormat.csv')\n",
    "submission['status_group_nums'] = ensemble.predict(test_selected)\n",
    "\n",
    "label_dict = {2: \"functional\", 1: \"functional needs repair\", 0 :\"non functional\"}\n",
    "submission[\"status_group\"] = submission[\"status_group_nums\"].map(label_dict)\n",
    "submission = submission.drop('status_group_nums', axis=1)\n",
    "\n",
    "submission.to_csv('pumpitup.csv',index=False)\n",
    "\n",
    "submission.info()"
   ]
  },
  {
   "cell_type": "code",
   "execution_count": null,
   "metadata": {},
   "outputs": [],
   "source": [
    "submission.head()"
   ]
  },
  {
   "cell_type": "markdown",
   "metadata": {},
   "source": [
    "### Notes"
   ]
  },
  {
   "cell_type": "code",
   "execution_count": null,
   "metadata": {},
   "outputs": [],
   "source": [
    "\"\"\"\n",
    "DataCamp: Feature engineering with Python course:\n",
    "\n",
    "One-hot and dummy encoding, drop_first=True, because if not specified the model could be distracted by duplicate info.\n",
    "Numerical columns: binning with pd.cut, so if we have ten different values in a column, but three of them are the 70% of all,\n",
    "the other 7 could be \"other\".\n",
    "\n",
    "Scaling: StandardScaler does not affect the data's shape. This works great if your data is normally distributed \n",
    "(or closely normally distributed), an assumption that a lot of machine learning models make. Sometimes you will work \n",
    "with data that closely conforms to normality, e.g the height or weight of a population. On the other hand, many variables \n",
    "in the real world do not follow this pattern e.g, wages or age of a population. In this exercise you will use a log \n",
    "transform on the ConvertedSalary column as it has a large amount of its data centered around the lower values, \n",
    "but contains very high values also. These distributions are said to have a long right tail.\n",
    "We should try the PowerTransformer for these kind of columns.\n",
    "\n",
    "Though Tree based models won't affect by the standardization.\n",
    "\n",
    "Fit and transform on the TRAINING data, and ONLY TRANSFORM on the TEST data. This is to avoid data leakage, because in real life\n",
    "we won't have access to test data, so we have to work with what we have, when making the model. Calibrate the preprocessing\n",
    "steps only on the training data. To do this in practice you train the scaler on the train set, and keep the trained scaler \n",
    "to apply it to the test set. You should never retrain a scaler on the test set. This approach is for scaling, and for removing\n",
    "outilers too.\n",
    "\n",
    "I should check the distributions of the columns to look fo outliers. Eliminate data with 3 std\n",
    "(this is the more statistical approach), or the 95th quantile (column.quantile(0.95)).\n",
    "\n",
    "More:\n",
    "\n",
    "- VotingClassifier check. https://towardsdatascience.com/ensemble-learning-using-scikit-learn-85c4531ff86a\n",
    "    74.5% but the Logistic regression, the third model may not be the best choice.\n",
    "\n",
    "- 'construction_year' binning. Check out the earliest, and the latest dates. - This made from 75.20% to 75.25%. \n",
    "   Very small step, but helped.\n",
    "   \n",
    "- Dimension reduction - needs scaling first. Try with just scaling, and then with scaling and PCA. - \n",
    "  It didn't helped for first try.\n",
    "  \n",
    "- 'functional needs repair' oversampling - DrivenData 70.46%.\n",
    "\n",
    "- DL solution + LightGBM\n",
    "\n",
    "- log transformation - done, 74.55% was the driven data accuracy, on my validation set, it was 75% so it was 1% better. \n",
    "\n",
    "- perc_func_lga - A column I created in a past version of this notebook.\n",
    "\n",
    "\n",
    "\"\"\""
   ]
  }
 ],
 "metadata": {
  "kernelspec": {
   "display_name": "Python 3",
   "language": "python",
   "name": "python3"
  },
  "language_info": {
   "codemirror_mode": {
    "name": "ipython",
    "version": 3
   },
   "file_extension": ".py",
   "mimetype": "text/x-python",
   "name": "python",
   "nbconvert_exporter": "python",
   "pygments_lexer": "ipython3",
   "version": "3.7.3"
  }
 },
 "nbformat": 4,
 "nbformat_minor": 2
}
