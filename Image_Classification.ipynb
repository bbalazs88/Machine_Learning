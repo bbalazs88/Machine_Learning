{
 "cells": [
  {
   "cell_type": "code",
   "execution_count": 1,
   "metadata": {},
   "outputs": [
    {
     "name": "stderr",
     "output_type": "stream",
     "text": [
      "Using TensorFlow backend.\n"
     ]
    }
   ],
   "source": [
    "import numpy as np\n",
    "import pandas as pd\n",
    "\n",
    "import seaborn as sns\n",
    "from matplotlib import pyplot as plt\n",
    "\n",
    "import tensorflow as tf\n",
    "import keras\n",
    "from keras.models import Sequential\n",
    "from keras.layers import Activation, Dense\n",
    "from keras.callbacks import EarlyStopping\n",
    "from keras.utils import to_categorical"
   ]
  },
  {
   "cell_type": "code",
   "execution_count": 2,
   "metadata": {},
   "outputs": [],
   "source": [
    "# From online\n",
    "\n",
    "mnist_dataframe = pd.read_csv(\n",
    "    \"https://raw.githubusercontent.com/bbalazs88/Sample_Files/master/mnist_train_small.csv\",\n",
    "    sep=\",\",\n",
    "    header=None)"
   ]
  },
  {
   "cell_type": "code",
   "execution_count": 3,
   "metadata": {},
   "outputs": [],
   "source": [
    "# Use just the first 12,000 records for training/validation.\n",
    "\n",
    "mnist_dataframe = mnist_dataframe.head(12000)"
   ]
  },
  {
   "cell_type": "code",
   "execution_count": 4,
   "metadata": {
    "scrolled": true
   },
   "outputs": [
    {
     "name": "stdout",
     "output_type": "stream",
     "text": [
      "10000 - labels \n",
      " 2000 - labels to evaluate \n",
      " 10000 - features \n",
      " 2000 - features to evaluate\n"
     ]
    }
   ],
   "source": [
    "# First 10.000 rows for train/test, next 2000 for evaluate\n",
    "\n",
    "labels = mnist_dataframe.loc[0:9999, 0]\n",
    "features = mnist_dataframe.loc[0:9999, 1:784]\n",
    "\n",
    "labels_evaluate = mnist_dataframe.loc[10000:11999, 0]\n",
    "features_evaluate = mnist_dataframe.loc[10000:11999, 1:784]\n",
    "\n",
    "print(labels.count(), '- labels \\n', labels_evaluate.count(), '- labels to evaluate \\n',\n",
    "     features.shape[0], '- features \\n', features_evaluate.shape[0], '- features to evaluate')"
   ]
  },
  {
   "cell_type": "code",
   "execution_count": 5,
   "metadata": {},
   "outputs": [
    {
     "data": {
      "text/plain": [
       "0    6\n",
       "1    5\n",
       "2    7\n",
       "3    9\n",
       "4    5\n",
       "5    2\n",
       "6    0\n",
       "7    6\n",
       "8    5\n",
       "9    5\n",
       "Name: 0, dtype: int64"
      ]
     },
     "execution_count": 5,
     "metadata": {},
     "output_type": "execute_result"
    }
   ],
   "source": [
    "# Look into the labels\n",
    "\n",
    "labels[0:10]"
   ]
  },
  {
   "cell_type": "code",
   "execution_count": 6,
   "metadata": {},
   "outputs": [
    {
     "data": {
      "text/html": [
       "<div>\n",
       "<style scoped>\n",
       "    .dataframe tbody tr th:only-of-type {\n",
       "        vertical-align: middle;\n",
       "    }\n",
       "\n",
       "    .dataframe tbody tr th {\n",
       "        vertical-align: top;\n",
       "    }\n",
       "\n",
       "    .dataframe thead th {\n",
       "        text-align: right;\n",
       "    }\n",
       "</style>\n",
       "<table border=\"1\" class=\"dataframe\">\n",
       "  <thead>\n",
       "    <tr style=\"text-align: right;\">\n",
       "      <th></th>\n",
       "      <th>1</th>\n",
       "      <th>2</th>\n",
       "      <th>3</th>\n",
       "      <th>4</th>\n",
       "      <th>5</th>\n",
       "      <th>6</th>\n",
       "      <th>7</th>\n",
       "      <th>8</th>\n",
       "      <th>9</th>\n",
       "      <th>10</th>\n",
       "      <th>...</th>\n",
       "      <th>775</th>\n",
       "      <th>776</th>\n",
       "      <th>777</th>\n",
       "      <th>778</th>\n",
       "      <th>779</th>\n",
       "      <th>780</th>\n",
       "      <th>781</th>\n",
       "      <th>782</th>\n",
       "      <th>783</th>\n",
       "      <th>784</th>\n",
       "    </tr>\n",
       "  </thead>\n",
       "  <tbody>\n",
       "    <tr>\n",
       "      <th>0</th>\n",
       "      <td>0</td>\n",
       "      <td>0</td>\n",
       "      <td>0</td>\n",
       "      <td>0</td>\n",
       "      <td>0</td>\n",
       "      <td>0</td>\n",
       "      <td>0</td>\n",
       "      <td>0</td>\n",
       "      <td>0</td>\n",
       "      <td>0</td>\n",
       "      <td>...</td>\n",
       "      <td>0</td>\n",
       "      <td>0</td>\n",
       "      <td>0</td>\n",
       "      <td>0</td>\n",
       "      <td>0</td>\n",
       "      <td>0</td>\n",
       "      <td>0</td>\n",
       "      <td>0</td>\n",
       "      <td>0</td>\n",
       "      <td>0</td>\n",
       "    </tr>\n",
       "    <tr>\n",
       "      <th>1</th>\n",
       "      <td>0</td>\n",
       "      <td>0</td>\n",
       "      <td>0</td>\n",
       "      <td>0</td>\n",
       "      <td>0</td>\n",
       "      <td>0</td>\n",
       "      <td>0</td>\n",
       "      <td>0</td>\n",
       "      <td>0</td>\n",
       "      <td>0</td>\n",
       "      <td>...</td>\n",
       "      <td>0</td>\n",
       "      <td>0</td>\n",
       "      <td>0</td>\n",
       "      <td>0</td>\n",
       "      <td>0</td>\n",
       "      <td>0</td>\n",
       "      <td>0</td>\n",
       "      <td>0</td>\n",
       "      <td>0</td>\n",
       "      <td>0</td>\n",
       "    </tr>\n",
       "    <tr>\n",
       "      <th>2</th>\n",
       "      <td>0</td>\n",
       "      <td>0</td>\n",
       "      <td>0</td>\n",
       "      <td>0</td>\n",
       "      <td>0</td>\n",
       "      <td>0</td>\n",
       "      <td>0</td>\n",
       "      <td>0</td>\n",
       "      <td>0</td>\n",
       "      <td>0</td>\n",
       "      <td>...</td>\n",
       "      <td>0</td>\n",
       "      <td>0</td>\n",
       "      <td>0</td>\n",
       "      <td>0</td>\n",
       "      <td>0</td>\n",
       "      <td>0</td>\n",
       "      <td>0</td>\n",
       "      <td>0</td>\n",
       "      <td>0</td>\n",
       "      <td>0</td>\n",
       "    </tr>\n",
       "    <tr>\n",
       "      <th>3</th>\n",
       "      <td>0</td>\n",
       "      <td>0</td>\n",
       "      <td>0</td>\n",
       "      <td>0</td>\n",
       "      <td>0</td>\n",
       "      <td>0</td>\n",
       "      <td>0</td>\n",
       "      <td>0</td>\n",
       "      <td>0</td>\n",
       "      <td>0</td>\n",
       "      <td>...</td>\n",
       "      <td>0</td>\n",
       "      <td>0</td>\n",
       "      <td>0</td>\n",
       "      <td>0</td>\n",
       "      <td>0</td>\n",
       "      <td>0</td>\n",
       "      <td>0</td>\n",
       "      <td>0</td>\n",
       "      <td>0</td>\n",
       "      <td>0</td>\n",
       "    </tr>\n",
       "    <tr>\n",
       "      <th>4</th>\n",
       "      <td>0</td>\n",
       "      <td>0</td>\n",
       "      <td>0</td>\n",
       "      <td>0</td>\n",
       "      <td>0</td>\n",
       "      <td>0</td>\n",
       "      <td>0</td>\n",
       "      <td>0</td>\n",
       "      <td>0</td>\n",
       "      <td>0</td>\n",
       "      <td>...</td>\n",
       "      <td>0</td>\n",
       "      <td>0</td>\n",
       "      <td>0</td>\n",
       "      <td>0</td>\n",
       "      <td>0</td>\n",
       "      <td>0</td>\n",
       "      <td>0</td>\n",
       "      <td>0</td>\n",
       "      <td>0</td>\n",
       "      <td>0</td>\n",
       "    </tr>\n",
       "  </tbody>\n",
       "</table>\n",
       "<p>5 rows × 784 columns</p>\n",
       "</div>"
      ],
      "text/plain": [
       "   1    2    3    4    5    6    7    8    9    10   ...  775  776  777  778  \\\n",
       "0    0    0    0    0    0    0    0    0    0    0  ...    0    0    0    0   \n",
       "1    0    0    0    0    0    0    0    0    0    0  ...    0    0    0    0   \n",
       "2    0    0    0    0    0    0    0    0    0    0  ...    0    0    0    0   \n",
       "3    0    0    0    0    0    0    0    0    0    0  ...    0    0    0    0   \n",
       "4    0    0    0    0    0    0    0    0    0    0  ...    0    0    0    0   \n",
       "\n",
       "   779  780  781  782  783  784  \n",
       "0    0    0    0    0    0    0  \n",
       "1    0    0    0    0    0    0  \n",
       "2    0    0    0    0    0    0  \n",
       "3    0    0    0    0    0    0  \n",
       "4    0    0    0    0    0    0  \n",
       "\n",
       "[5 rows x 784 columns]"
      ]
     },
     "execution_count": 6,
     "metadata": {},
     "output_type": "execute_result"
    }
   ],
   "source": [
    "# Look into the features\n",
    "\n",
    "features[0:5]"
   ]
  },
  {
   "cell_type": "code",
   "execution_count": 7,
   "metadata": {},
   "outputs": [
    {
     "name": "stdout",
     "output_type": "stream",
     "text": [
      "6\n",
      "[0. 0. 0. 0. 0. 0. 1. 0. 0. 0.] \n",
      "\n",
      "One-hot-encoding visualize.\n"
     ]
    }
   ],
   "source": [
    "# Because we need 10 categories for the ten possible outcomes, one-hot-encoding needed.\n",
    "\n",
    "encoded = to_categorical(labels)\n",
    "encoded_evaluate = to_categorical(labels_evaluate)\n",
    "\n",
    "print(labels[0])\n",
    "print(encoded[0], '\\n')\n",
    "print(\"One-hot-encoding visualize.\")"
   ]
  },
  {
   "cell_type": "markdown",
   "metadata": {},
   "source": [
    "### HPO:\n",
    "\n",
    "#### Dense layers: First I tried two layers with 50-50 neurons. The best accuracy was around 70%. With 512 neurons in each layer, it was worse. With 50-50-60 neuron layers - so I added another layer - the best score was achieved, arounc 90%.\n",
    "\n",
    "#### Batch_size: The default is 32. I changed to 1, which is really slow, and not accurate. We could go bigger than the default, but not too big, my choice was 150.\n",
    "\n",
    "#### Optimizer: SGD - works well with shallow networks, and accuracy is the same az Adam's"
   ]
  },
  {
   "cell_type": "code",
   "execution_count": 16,
   "metadata": {
    "scrolled": true
   },
   "outputs": [
    {
     "name": "stdout",
     "output_type": "stream",
     "text": [
      "_________________________________________________________________\n",
      "Layer (type)                 Output Shape              Param #   \n",
      "=================================================================\n",
      "dense_9 (Dense)              (None, 70)                54950     \n",
      "_________________________________________________________________\n",
      "dense_10 (Dense)             (None, 50)                3550      \n",
      "_________________________________________________________________\n",
      "dense_11 (Dense)             (None, 60)                3060      \n",
      "_________________________________________________________________\n",
      "dense_12 (Dense)             (None, 10)                610       \n",
      "=================================================================\n",
      "Total params: 62,170\n",
      "Trainable params: 62,170\n",
      "Non-trainable params: 0\n",
      "_________________________________________________________________\n",
      "Train on 7000 samples, validate on 3000 samples\n",
      "Epoch 1/30\n",
      "7000/7000 [==============================] - 2s 265us/step - loss: 9.1756 - acc: 0.4000 - val_loss: 7.7126 - val_acc: 0.5040\n",
      "Epoch 2/30\n",
      "7000/7000 [==============================] - 1s 74us/step - loss: 7.3810 - acc: 0.5224 - val_loss: 6.3717 - val_acc: 0.5610\n",
      "Epoch 3/30\n",
      "7000/7000 [==============================] - 1s 84us/step - loss: 5.0472 - acc: 0.6594 - val_loss: 4.6788 - val_acc: 0.6863\n",
      "Epoch 4/30\n",
      "7000/7000 [==============================] - 1s 77us/step - loss: 4.3500 - acc: 0.7074 - val_loss: 4.1618 - val_acc: 0.7227\n",
      "Epoch 5/30\n",
      "7000/7000 [==============================] - 1s 76us/step - loss: 3.6727 - acc: 0.7503 - val_loss: 3.3279 - val_acc: 0.7673\n",
      "Epoch 6/30\n",
      "7000/7000 [==============================] - 1s 83us/step - loss: 3.0142 - acc: 0.7909 - val_loss: 3.0838 - val_acc: 0.7853\n",
      "Epoch 7/30\n",
      "7000/7000 [==============================] - 1s 80us/step - loss: 2.6940 - acc: 0.8150 - val_loss: 2.8029 - val_acc: 0.8037\n",
      "Epoch 8/30\n",
      "7000/7000 [==============================] - 1s 81us/step - loss: 2.5586 - acc: 0.8229 - val_loss: 2.7771 - val_acc: 0.8067\n",
      "Epoch 9/30\n",
      "7000/7000 [==============================] - 1s 80us/step - loss: 2.3737 - acc: 0.8350 - val_loss: 3.0255 - val_acc: 0.7843\n",
      "Epoch 10/30\n",
      "7000/7000 [==============================] - 1s 76us/step - loss: 2.2909 - acc: 0.8403 - val_loss: 2.6041 - val_acc: 0.8170\n",
      "Epoch 11/30\n",
      "7000/7000 [==============================] - 1s 80us/step - loss: 2.1479 - acc: 0.8546 - val_loss: 2.4585 - val_acc: 0.8277\n",
      "Epoch 12/30\n",
      "7000/7000 [==============================] - 1s 82us/step - loss: 2.1251 - acc: 0.8560 - val_loss: 2.5175 - val_acc: 0.8213\n",
      "Epoch 13/30\n",
      "7000/7000 [==============================] - 1s 79us/step - loss: 2.0817 - acc: 0.8591 - val_loss: 2.5732 - val_acc: 0.8153\n",
      "Epoch 14/30\n",
      "7000/7000 [==============================] - 1s 77us/step - loss: 2.0821 - acc: 0.8599 - val_loss: 2.4492 - val_acc: 0.8280\n",
      "Epoch 15/30\n",
      "7000/7000 [==============================] - 1s 99us/step - loss: 2.0503 - acc: 0.8626 - val_loss: 2.3824 - val_acc: 0.8350\n",
      "Epoch 16/30\n",
      "7000/7000 [==============================] - 1s 83us/step - loss: 1.9608 - acc: 0.8703 - val_loss: 2.4236 - val_acc: 0.8330\n",
      "Epoch 17/30\n",
      "7000/7000 [==============================] - 1s 99us/step - loss: 1.9391 - acc: 0.8724 - val_loss: 2.3879 - val_acc: 0.8320\n",
      "Epoch 18/30\n",
      "7000/7000 [==============================] - 1s 94us/step - loss: 1.9724 - acc: 0.8677 - val_loss: 2.6042 - val_acc: 0.8197\n"
     ]
    },
    {
     "data": {
      "image/png": "[encoded data removed]",
      "text/plain": [
       "<Figure size 432x288 with 1 Axes>"
      ]
     },
     "metadata": {
      "needs_background": "light"
     },
     "output_type": "display_data"
    },
    {
     "data": {
      "image/png": "[encoded data removed]",
      "text/plain": [
       "<Figure size 432x288 with 1 Axes>"
      ]
     },
     "metadata": {
      "needs_background": "light"
     },
     "output_type": "display_data"
    }
   ],
   "source": [
    "early_stopping_monitor = EarlyStopping(patience=3)\n",
    "\n",
    "# PyCharm -> model.Sequential()\n",
    "model = Sequential()\n",
    "model.add(Dense(70, activation='relu', input_shape=(784, )))\n",
    "model.add(Dense(50, activation='relu'))\n",
    "model.add(Dense(60, activation='relu'))\n",
    "model.add(Dense(10, activation='softmax'))\n",
    "model.summary()\n",
    "\n",
    "# Compile the model, but first, choose an optimizer\n",
    "optimizer = keras.optimizers.Adam(lr=0.001)\n",
    "# optimizer = keras.optimizers.SGD(lr=0.001, momentum=0.0001, nesterov=True)\n",
    "\n",
    "# Tensorboard callback\n",
    "tb_callback = tf.keras.callbacks.TensorBoard(log_dir='c://DatasRev//TensorBoard//Image_Classifier//', \n",
    "                                histogram_freq=0, batch_size=32, write_graph=True, \n",
    "                                write_grads=False, write_images=False, embeddings_freq=0, \n",
    "                                embeddings_layer_names=None, embeddings_metadata=None, \n",
    "                                embeddings_data=None, update_freq='epoch')\n",
    "\n",
    "model.compile(optimizer=optimizer, loss='categorical_crossentropy', metrics=['accuracy'])\n",
    "\n",
    "# Fit the model\n",
    "history = model.fit(features, encoded, epochs=30, batch_size=150, validation_split=0.3, \n",
    "                    callbacks=[early_stopping_monitor, tb_callback])\n",
    "\n",
    "# Plot the accuracy\n",
    "plt.plot(history.history['acc'])\n",
    "plt.plot(history.history['val_acc'])\n",
    "plt.title('Model accuracy')\n",
    "plt.ylabel('Accuracy')\n",
    "plt.xlabel('Epoch')\n",
    "plt.legend(['Train', 'Test'], loc='upper left')\n",
    "plt.show()\n",
    "\n",
    "# Plot the loss\n",
    "plt.plot(history.history['loss'])\n",
    "plt.plot(history.history['val_loss'])\n",
    "plt.title('Model loss')\n",
    "plt.ylabel('Loss')\n",
    "plt.xlabel('Epoch')\n",
    "plt.legend(['Train', 'Test'], loc='upper left')\n",
    "plt.show()"
   ]
  },
  {
   "cell_type": "code",
   "execution_count": 9,
   "metadata": {},
   "outputs": [
    {
     "name": "stdout",
     "output_type": "stream",
     "text": [
      "2000/2000 [==============================] - 0s 80us/step\n",
      "\n",
      "Test Accuracy: 0.658\n"
     ]
    }
   ],
   "source": [
    "test_loss, test_acc = model.evaluate(features_evaluate, encoded_evaluate)\n",
    "print('\\nTest Accuracy:', test_acc)"
   ]
  },
  {
   "cell_type": "code",
   "execution_count": 10,
   "metadata": {},
   "outputs": [
    {
     "name": "stdout",
     "output_type": "stream",
     "text": [
      "\n",
      "The prediction is: 0\n",
      "And the answer is: 6\n"
     ]
    },
    {
     "data": {
      "image/png": "[encoded data removed]",
      "text/plain": [
       "<Figure size 288x288 with 1 Axes>"
      ]
     },
     "metadata": {
      "needs_background": "light"
     },
     "output_type": "display_data"
    }
   ],
   "source": [
    "# Random számot generálunk az evaluate adat 2000 sorából, így könnyebb léptetni.\n",
    "# TODO: csinálni egy loopot, ami predictel 50 számot, és az eredményeket, és a képeket is kinyomtatja.\n",
    "\n",
    "rand = np.random.randint(0, 2000)\n",
    "rand\n",
    "\n",
    "prediction = model.predict([[features_evaluate.iloc[rand]]])\n",
    "print('\\nThe prediction is:', prediction.argmax())\n",
    "print(\"And the answer is:\", labels_evaluate.iloc[rand])\n",
    "\n",
    "# Itt nem kellett belekeverni a (-1, 28, 28, 1)-et, mert csak két paramétert vár a matshow.\n",
    "plt.matshow(features_evaluate.iloc[rand].values.reshape(28,28))\n",
    "plt.show()"
   ]
  },
  {
   "cell_type": "markdown",
   "metadata": {},
   "source": [
    "## Misc:"
   ]
  },
  {
   "cell_type": "code",
   "execution_count": 11,
   "metadata": {},
   "outputs": [
    {
     "data": {
      "text/html": [
       "<div>\n",
       "<style scoped>\n",
       "    .dataframe tbody tr th:only-of-type {\n",
       "        vertical-align: middle;\n",
       "    }\n",
       "\n",
       "    .dataframe tbody tr th {\n",
       "        vertical-align: top;\n",
       "    }\n",
       "\n",
       "    .dataframe thead th {\n",
       "        text-align: right;\n",
       "    }\n",
       "</style>\n",
       "<table border=\"1\" class=\"dataframe\">\n",
       "  <thead>\n",
       "    <tr style=\"text-align: right;\">\n",
       "      <th></th>\n",
       "      <th>591</th>\n",
       "      <th>592</th>\n",
       "      <th>593</th>\n",
       "      <th>594</th>\n",
       "      <th>595</th>\n",
       "      <th>596</th>\n",
       "      <th>597</th>\n",
       "      <th>598</th>\n",
       "      <th>599</th>\n",
       "      <th>600</th>\n",
       "      <th>601</th>\n",
       "      <th>602</th>\n",
       "      <th>603</th>\n",
       "      <th>604</th>\n",
       "      <th>605</th>\n",
       "      <th>606</th>\n",
       "      <th>607</th>\n",
       "      <th>608</th>\n",
       "      <th>609</th>\n",
       "      <th>610</th>\n",
       "    </tr>\n",
       "  </thead>\n",
       "  <tbody>\n",
       "    <tr>\n",
       "      <th>10000</th>\n",
       "      <td>0</td>\n",
       "      <td>0</td>\n",
       "      <td>0</td>\n",
       "      <td>0</td>\n",
       "      <td>0</td>\n",
       "      <td>0</td>\n",
       "      <td>0</td>\n",
       "      <td>9</td>\n",
       "      <td>124</td>\n",
       "      <td>180</td>\n",
       "      <td>254</td>\n",
       "      <td>242</td>\n",
       "      <td>129</td>\n",
       "      <td>17</td>\n",
       "      <td>0</td>\n",
       "      <td>0</td>\n",
       "      <td>0</td>\n",
       "      <td>0</td>\n",
       "      <td>0</td>\n",
       "      <td>0</td>\n",
       "    </tr>\n",
       "    <tr>\n",
       "      <th>10001</th>\n",
       "      <td>0</td>\n",
       "      <td>0</td>\n",
       "      <td>0</td>\n",
       "      <td>0</td>\n",
       "      <td>0</td>\n",
       "      <td>16</td>\n",
       "      <td>169</td>\n",
       "      <td>212</td>\n",
       "      <td>254</td>\n",
       "      <td>254</td>\n",
       "      <td>254</td>\n",
       "      <td>254</td>\n",
       "      <td>251</td>\n",
       "      <td>126</td>\n",
       "      <td>48</td>\n",
       "      <td>0</td>\n",
       "      <td>0</td>\n",
       "      <td>0</td>\n",
       "      <td>0</td>\n",
       "      <td>0</td>\n",
       "    </tr>\n",
       "  </tbody>\n",
       "</table>\n",
       "</div>"
      ],
      "text/plain": [
       "       591  592  593  594  595  596  597  598  599  600  601  602  603  604  \\\n",
       "10000    0    0    0    0    0    0    0    9  124  180  254  242  129   17   \n",
       "10001    0    0    0    0    0   16  169  212  254  254  254  254  251  126   \n",
       "\n",
       "       605  606  607  608  609  610  \n",
       "10000    0    0    0    0    0    0  \n",
       "10001   48    0    0    0    0    0  "
      ]
     },
     "execution_count": 11,
     "metadata": {},
     "output_type": "execute_result"
    }
   ],
   "source": [
    "# An example how the raw data looks like.\n",
    "\n",
    "features_evaluate.iloc[0:2, 590:610]"
   ]
  },
  {
   "cell_type": "code",
   "execution_count": 12,
   "metadata": {},
   "outputs": [
    {
     "name": "stdout",
     "output_type": "stream",
     "text": [
      "<class 'pandas.core.series.Series'>\n",
      "<class 'list'>\n"
     ]
    }
   ],
   "source": [
    "# For prediction it needs a list, not a Series like model.predict(features_evaluate.iloc[45]).\n",
    "# The difference has printed out.\n",
    "\n",
    "print(type(features_evaluate.iloc[45]))\n",
    "print(type([[features_evaluate.iloc[45]]]))"
   ]
  },
  {
   "cell_type": "code",
   "execution_count": 13,
   "metadata": {},
   "outputs": [
    {
     "data": {
      "image/png": "[encoded data removed]",
      "text/plain": [
       "<Figure size 432x288 with 5 Axes>"
      ]
     },
     "metadata": {
      "needs_background": "light"
     },
     "output_type": "display_data"
    },
    {
     "data": {
      "image/png": "[encoded data removed]",
      "text/plain": [
       "<Figure size 432x288 with 5 Axes>"
      ]
     },
     "metadata": {
      "needs_background": "light"
     },
     "output_type": "display_data"
    },
    {
     "data": {
      "image/png": "[encoded data removed]",
      "text/plain": [
       "<Figure size 432x288 with 5 Axes>"
      ]
     },
     "metadata": {
      "needs_background": "light"
     },
     "output_type": "display_data"
    },
    {
     "data": {
      "image/png": "[encoded data removed]",
      "text/plain": [
       "<Figure size 432x288 with 5 Axes>"
      ]
     },
     "metadata": {
      "needs_background": "light"
     },
     "output_type": "display_data"
    }
   ],
   "source": [
    "# Visalize the prediction. Not the nicest solution, but it works.\n",
    "\n",
    "for i in range(0, 4):\n",
    "    prediction = model.predict([[features_evaluate.iloc[rand]]])  \n",
    "\n",
    "    f, axarr = plt.subplots(1, 5)\n",
    "    f.tight_layout()\n",
    "        \n",
    "    rand = np.random.randint(0, 2000)\n",
    "    prediction = model.predict([[features_evaluate.iloc[rand]]])\n",
    "    axarr[0].set(xlabel=prediction.argmax())\n",
    "    axarr[0].imshow(features_evaluate.iloc[rand].values.reshape(28,28))\n",
    "    \n",
    "    rand = np.random.randint(0, 2000)\n",
    "    prediction = model.predict([[features_evaluate.iloc[rand]]])\n",
    "    axarr[1].set(xlabel=prediction.argmax())\n",
    "    axarr[1].imshow(features_evaluate.iloc[rand].values.reshape(28,28))\n",
    "    \n",
    "    rand = np.random.randint(0, 2000)\n",
    "    prediction = model.predict([[features_evaluate.iloc[rand]]])\n",
    "    axarr[2].set(xlabel=prediction.argmax())\n",
    "    axarr[2].imshow(features_evaluate.iloc[rand].values.reshape(28,28))\n",
    "    \n",
    "    rand = np.random.randint(0, 2000)\n",
    "    prediction = model.predict([[features_evaluate.iloc[rand]]])\n",
    "    axarr[3].set(xlabel=prediction.argmax())\n",
    "    axarr[3].imshow(features_evaluate.iloc[rand].values.reshape(28,28))\n",
    "   \n",
    "    rand = np.random.randint(0, 2000)\n",
    "    prediction = model.predict([[features_evaluate.iloc[rand]]])\n",
    "    axarr[4].set(xlabel=prediction.argmax())\n",
    "    axarr[4].imshow(features_evaluate.iloc[rand].values.reshape(28,28))\n",
    "\n",
    "    plt.show()"
   ]
  },
  {
   "cell_type": "code",
   "execution_count": 14,
   "metadata": {
    "scrolled": true
   },
   "outputs": [
    {
     "data": {
      "text/plain": [
       "Reusing TensorBoard on port 6006 (pid 15720), started 3:17:21 ago. (Use '!kill 15720' to kill it.)"
      ]
     },
     "metadata": {},
     "output_type": "display_data"
    },
    {
     "data": {
      "text/html": [
       "\n",
       "        <iframe\n",
       "            width=\"100%\"\n",
       "            height=\"600\"\n",
       "            src=\"http://localhost:6006\"\n",
       "            frameborder=\"0\"\n",
       "            allowfullscreen\n",
       "        ></iframe>\n",
       "        "
      ],
      "text/plain": [
       "<IPython.lib.display.IFrame at 0x2a0480b77f0>"
      ]
     },
     "metadata": {},
     "output_type": "display_data"
    }
   ],
   "source": [
    "# TensorBoard load, and show\n",
    "\n",
    "%load_ext tensorboard.notebook\n",
    "%tensorboard --logdir 'c://DatasRev//TensorBoard//Image_Classifier//'"
   ]
  }
 ],
 "metadata": {
  "kernelspec": {
   "display_name": "Python 3",
   "language": "python",
   "name": "python3"
  },
  "language_info": {
   "codemirror_mode": {
    "name": "ipython",
    "version": 3
   },
   "file_extension": ".py",
   "mimetype": "text/x-python",
   "name": "python",
   "nbconvert_exporter": "python",
   "pygments_lexer": "ipython3",
   "version": "3.7.3"
  }
 },
 "nbformat": 4,
 "nbformat_minor": 2
}
