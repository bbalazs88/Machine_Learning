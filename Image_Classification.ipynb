{
 "cells": [
  {
   "cell_type": "code",
   "execution_count": 1,
   "metadata": {},
   "outputs": [
    {
     "name": "stderr",
     "output_type": "stream",
     "text": [
      "Using TensorFlow backend.\n"
     ]
    }
   ],
   "source": [
    "import numpy as np\n",
    "import pandas as pd\n",
    "\n",
    "import seaborn as sns\n",
    "from matplotlib import pyplot as plt\n",
    "\n",
    "import tensorflow as tf\n",
    "import keras\n",
    "from keras.models import Sequential\n",
    "from keras.layers import Activation, Dense\n",
    "from keras.callbacks import EarlyStopping\n",
    "from keras.utils import to_categorical"
   ]
  },
  {
   "cell_type": "code",
   "execution_count": 2,
   "metadata": {},
   "outputs": [],
   "source": [
    "# From online\n",
    "mnist_dataframe = pd.read_csv(\n",
    "    \"https://raw.githubusercontent.com/bbalazs88/Sample_Files/master/mnist_train_small.csv\",\n",
    "    sep=\",\",\n",
    "    header=None)"
   ]
  },
  {
   "cell_type": "code",
   "execution_count": 3,
   "metadata": {},
   "outputs": [],
   "source": [
    "# Use just the first 12,000 records for training/validation.\n",
    "mnist_dataframe = mnist_dataframe.head(12000)"
   ]
  },
  {
   "cell_type": "code",
   "execution_count": 4,
   "metadata": {
    "scrolled": true
   },
   "outputs": [
    {
     "name": "stdout",
     "output_type": "stream",
     "text": [
      "10000 - labels \n",
      " 2000 - labels to evaluate \n",
      " 10000 - features \n",
      " 2000 - features to evaluate\n"
     ]
    }
   ],
   "source": [
    "# First 10.000 rows for train/test, next 2000 for evaluate\n",
    "\n",
    "labels = mnist_dataframe.loc[0:9999, 0]\n",
    "features = mnist_dataframe.loc[0:9999, 1:784]\n",
    "\n",
    "labels_evaluate = mnist_dataframe.loc[10000:11999, 0]\n",
    "features_evaluate = mnist_dataframe.loc[10000:11999, 1:784]\n",
    "\n",
    "print(labels.count(), '- labels \\n', labels_evaluate.count(), '- labels to evaluate \\n',\n",
    "     features.shape[0], '- features \\n', features_evaluate.shape[0], '- features to evaluate')"
   ]
  },
  {
   "cell_type": "code",
   "execution_count": 5,
   "metadata": {},
   "outputs": [
    {
     "data": {
      "text/plain": [
       "0    6\n",
       "1    5\n",
       "2    7\n",
       "3    9\n",
       "4    5\n",
       "5    2\n",
       "6    0\n",
       "7    6\n",
       "8    5\n",
       "9    5\n",
       "Name: 0, dtype: int64"
      ]
     },
     "execution_count": 5,
     "metadata": {},
     "output_type": "execute_result"
    }
   ],
   "source": [
    "# Look into the labels\n",
    "\n",
    "labels[0:10]"
   ]
  },
  {
   "cell_type": "code",
   "execution_count": 6,
   "metadata": {},
   "outputs": [
    {
     "data": {
      "text/html": [
       "<div>\n",
       "<style scoped>\n",
       "    .dataframe tbody tr th:only-of-type {\n",
       "        vertical-align: middle;\n",
       "    }\n",
       "\n",
       "    .dataframe tbody tr th {\n",
       "        vertical-align: top;\n",
       "    }\n",
       "\n",
       "    .dataframe thead th {\n",
       "        text-align: right;\n",
       "    }\n",
       "</style>\n",
       "<table border=\"1\" class=\"dataframe\">\n",
       "  <thead>\n",
       "    <tr style=\"text-align: right;\">\n",
       "      <th></th>\n",
       "      <th>1</th>\n",
       "      <th>2</th>\n",
       "      <th>3</th>\n",
       "      <th>4</th>\n",
       "      <th>5</th>\n",
       "      <th>6</th>\n",
       "      <th>7</th>\n",
       "      <th>8</th>\n",
       "      <th>9</th>\n",
       "      <th>10</th>\n",
       "      <th>...</th>\n",
       "      <th>775</th>\n",
       "      <th>776</th>\n",
       "      <th>777</th>\n",
       "      <th>778</th>\n",
       "      <th>779</th>\n",
       "      <th>780</th>\n",
       "      <th>781</th>\n",
       "      <th>782</th>\n",
       "      <th>783</th>\n",
       "      <th>784</th>\n",
       "    </tr>\n",
       "  </thead>\n",
       "  <tbody>\n",
       "    <tr>\n",
       "      <th>0</th>\n",
       "      <td>0</td>\n",
       "      <td>0</td>\n",
       "      <td>0</td>\n",
       "      <td>0</td>\n",
       "      <td>0</td>\n",
       "      <td>0</td>\n",
       "      <td>0</td>\n",
       "      <td>0</td>\n",
       "      <td>0</td>\n",
       "      <td>0</td>\n",
       "      <td>...</td>\n",
       "      <td>0</td>\n",
       "      <td>0</td>\n",
       "      <td>0</td>\n",
       "      <td>0</td>\n",
       "      <td>0</td>\n",
       "      <td>0</td>\n",
       "      <td>0</td>\n",
       "      <td>0</td>\n",
       "      <td>0</td>\n",
       "      <td>0</td>\n",
       "    </tr>\n",
       "    <tr>\n",
       "      <th>1</th>\n",
       "      <td>0</td>\n",
       "      <td>0</td>\n",
       "      <td>0</td>\n",
       "      <td>0</td>\n",
       "      <td>0</td>\n",
       "      <td>0</td>\n",
       "      <td>0</td>\n",
       "      <td>0</td>\n",
       "      <td>0</td>\n",
       "      <td>0</td>\n",
       "      <td>...</td>\n",
       "      <td>0</td>\n",
       "      <td>0</td>\n",
       "      <td>0</td>\n",
       "      <td>0</td>\n",
       "      <td>0</td>\n",
       "      <td>0</td>\n",
       "      <td>0</td>\n",
       "      <td>0</td>\n",
       "      <td>0</td>\n",
       "      <td>0</td>\n",
       "    </tr>\n",
       "    <tr>\n",
       "      <th>2</th>\n",
       "      <td>0</td>\n",
       "      <td>0</td>\n",
       "      <td>0</td>\n",
       "      <td>0</td>\n",
       "      <td>0</td>\n",
       "      <td>0</td>\n",
       "      <td>0</td>\n",
       "      <td>0</td>\n",
       "      <td>0</td>\n",
       "      <td>0</td>\n",
       "      <td>...</td>\n",
       "      <td>0</td>\n",
       "      <td>0</td>\n",
       "      <td>0</td>\n",
       "      <td>0</td>\n",
       "      <td>0</td>\n",
       "      <td>0</td>\n",
       "      <td>0</td>\n",
       "      <td>0</td>\n",
       "      <td>0</td>\n",
       "      <td>0</td>\n",
       "    </tr>\n",
       "    <tr>\n",
       "      <th>3</th>\n",
       "      <td>0</td>\n",
       "      <td>0</td>\n",
       "      <td>0</td>\n",
       "      <td>0</td>\n",
       "      <td>0</td>\n",
       "      <td>0</td>\n",
       "      <td>0</td>\n",
       "      <td>0</td>\n",
       "      <td>0</td>\n",
       "      <td>0</td>\n",
       "      <td>...</td>\n",
       "      <td>0</td>\n",
       "      <td>0</td>\n",
       "      <td>0</td>\n",
       "      <td>0</td>\n",
       "      <td>0</td>\n",
       "      <td>0</td>\n",
       "      <td>0</td>\n",
       "      <td>0</td>\n",
       "      <td>0</td>\n",
       "      <td>0</td>\n",
       "    </tr>\n",
       "    <tr>\n",
       "      <th>4</th>\n",
       "      <td>0</td>\n",
       "      <td>0</td>\n",
       "      <td>0</td>\n",
       "      <td>0</td>\n",
       "      <td>0</td>\n",
       "      <td>0</td>\n",
       "      <td>0</td>\n",
       "      <td>0</td>\n",
       "      <td>0</td>\n",
       "      <td>0</td>\n",
       "      <td>...</td>\n",
       "      <td>0</td>\n",
       "      <td>0</td>\n",
       "      <td>0</td>\n",
       "      <td>0</td>\n",
       "      <td>0</td>\n",
       "      <td>0</td>\n",
       "      <td>0</td>\n",
       "      <td>0</td>\n",
       "      <td>0</td>\n",
       "      <td>0</td>\n",
       "    </tr>\n",
       "  </tbody>\n",
       "</table>\n",
       "<p>5 rows × 784 columns</p>\n",
       "</div>"
      ],
      "text/plain": [
       "   1    2    3    4    5    6    7    8    9    10   ...  775  776  777  778  \\\n",
       "0    0    0    0    0    0    0    0    0    0    0  ...    0    0    0    0   \n",
       "1    0    0    0    0    0    0    0    0    0    0  ...    0    0    0    0   \n",
       "2    0    0    0    0    0    0    0    0    0    0  ...    0    0    0    0   \n",
       "3    0    0    0    0    0    0    0    0    0    0  ...    0    0    0    0   \n",
       "4    0    0    0    0    0    0    0    0    0    0  ...    0    0    0    0   \n",
       "\n",
       "   779  780  781  782  783  784  \n",
       "0    0    0    0    0    0    0  \n",
       "1    0    0    0    0    0    0  \n",
       "2    0    0    0    0    0    0  \n",
       "3    0    0    0    0    0    0  \n",
       "4    0    0    0    0    0    0  \n",
       "\n",
       "[5 rows x 784 columns]"
      ]
     },
     "execution_count": 6,
     "metadata": {},
     "output_type": "execute_result"
    }
   ],
   "source": [
    "# Look into the features\n",
    "features[0:5]"
   ]
  },
  {
   "cell_type": "code",
   "execution_count": 7,
   "metadata": {},
   "outputs": [
    {
     "name": "stdout",
     "output_type": "stream",
     "text": [
      "6\n",
      "[0. 0. 0. 0. 0. 0. 1. 0. 0. 0.] \n",
      "\n",
      "One-hot-encoding visualize.\n"
     ]
    }
   ],
   "source": [
    "# Because we need 10 categories for the ten possible outcomes, one-hot-encoding needed.\n",
    "\n",
    "encoded = to_categorical(labels)\n",
    "encoded_evaluate = to_categorical(labels_evaluate)\n",
    "\n",
    "print(labels[0])\n",
    "print(encoded[0], '\\n')\n",
    "print(\"One-hot-encoding visualize.\")"
   ]
  },
  {
   "cell_type": "markdown",
   "metadata": {},
   "source": [
    "### HPO:\n",
    "\n",
    "#### Dense layers: First I tried two layers with 50-50 neurons. The best accuracy was around 70%. With 512 neurons in each layer, it was worse. With 50-50-60 neuron layers - so I added another layer - the best score was achieved, arounc 90%.\n",
    "\n",
    "#### Batch_size: The default is 32. I changed to 1, which is really slow, and not accurate. We could go bigger than the default, but not too big, my choice was 150.\n",
    "\n",
    "#### Optimizer: SGD - works well with shallow networks, and accuracy is the same az Adam's"
   ]
  },
  {
   "cell_type": "code",
   "execution_count": 8,
   "metadata": {
    "scrolled": true
   },
   "outputs": [
    {
     "name": "stdout",
     "output_type": "stream",
     "text": [
      "WARNING:tensorflow:From C:\\Anaconda3\\lib\\site-packages\\tensorflow\\python\\framework\\op_def_library.py:263: colocate_with (from tensorflow.python.framework.ops) is deprecated and will be removed in a future version.\n",
      "Instructions for updating:\n",
      "Colocations handled automatically by placer.\n",
      "_________________________________________________________________\n",
      "Layer (type)                 Output Shape              Param #   \n",
      "=================================================================\n",
      "dense_1 (Dense)              (None, 50)                39250     \n",
      "_________________________________________________________________\n",
      "dense_2 (Dense)              (None, 50)                2550      \n",
      "_________________________________________________________________\n",
      "dense_3 (Dense)              (None, 60)                3060      \n",
      "_________________________________________________________________\n",
      "dense_4 (Dense)              (None, 10)                610       \n",
      "=================================================================\n",
      "Total params: 45,470\n",
      "Trainable params: 45,470\n",
      "Non-trainable params: 0\n",
      "_________________________________________________________________\n",
      "WARNING:tensorflow:From C:\\Anaconda3\\lib\\site-packages\\tensorflow\\python\\ops\\math_ops.py:3066: to_int32 (from tensorflow.python.ops.math_ops) is deprecated and will be removed in a future version.\n",
      "Instructions for updating:\n",
      "Use tf.cast instead.\n",
      "Train on 7000 samples, validate on 3000 samples\n",
      "Epoch 1/30\n",
      "7000/7000 [==============================] - 2s 300us/step - loss: 9.5775 - acc: 0.3720 - val_loss: 8.4008 - val_acc: 0.4497\n",
      "Epoch 2/30\n",
      "7000/7000 [==============================] - 1s 78us/step - loss: 8.0667 - acc: 0.4737 - val_loss: 7.4611 - val_acc: 0.5173\n",
      "Epoch 3/30\n",
      "7000/7000 [==============================] - 1s 74us/step - loss: 6.9209 - acc: 0.5460 - val_loss: 6.2888 - val_acc: 0.5833\n",
      "Epoch 4/30\n",
      "7000/7000 [==============================] - 1s 79us/step - loss: 5.4072 - acc: 0.6376 - val_loss: 4.6443 - val_acc: 0.6833\n",
      "Epoch 5/30\n",
      "7000/7000 [==============================] - 1s 74us/step - loss: 4.3403 - acc: 0.7081 - val_loss: 4.1697 - val_acc: 0.7190\n",
      "Epoch 6/30\n",
      "7000/7000 [==============================] - 1s 74us/step - loss: 4.0069 - acc: 0.7316 - val_loss: 4.1217 - val_acc: 0.7233\n",
      "Epoch 7/30\n",
      "7000/7000 [==============================] - 1s 78us/step - loss: 3.8833 - acc: 0.7416 - val_loss: 4.1215 - val_acc: 0.7223\n",
      "Epoch 8/30\n",
      "7000/7000 [==============================] - 1s 84us/step - loss: 3.7761 - acc: 0.7491 - val_loss: 4.0486 - val_acc: 0.7240\n",
      "Epoch 9/30\n",
      "7000/7000 [==============================] - 1s 74us/step - loss: 3.7338 - acc: 0.7517 - val_loss: 3.9926 - val_acc: 0.7293\n",
      "Epoch 10/30\n",
      "7000/7000 [==============================] - 1s 84us/step - loss: 3.6719 - acc: 0.7553 - val_loss: 3.9348 - val_acc: 0.7330\n",
      "Epoch 11/30\n",
      "7000/7000 [==============================] - 1s 98us/step - loss: 3.5813 - acc: 0.7663 - val_loss: 3.9593 - val_acc: 0.7323\n",
      "Epoch 12/30\n",
      "7000/7000 [==============================] - 1s 80us/step - loss: 3.5460 - acc: 0.7679 - val_loss: 3.9179 - val_acc: 0.7367\n",
      "Epoch 13/30\n",
      "7000/7000 [==============================] - 1s 80us/step - loss: 3.4778 - acc: 0.7743 - val_loss: 3.8607 - val_acc: 0.7377\n",
      "Epoch 14/30\n",
      "7000/7000 [==============================] - 1s 77us/step - loss: 3.4501 - acc: 0.7771 - val_loss: 3.8550 - val_acc: 0.7353\n",
      "Epoch 15/30\n",
      "7000/7000 [==============================] - 1s 75us/step - loss: 3.4284 - acc: 0.7793 - val_loss: 3.8391 - val_acc: 0.7380\n",
      "Epoch 16/30\n",
      "7000/7000 [==============================] - 1s 74us/step - loss: 3.4055 - acc: 0.7817 - val_loss: 3.8282 - val_acc: 0.7413\n",
      "Epoch 17/30\n",
      "7000/7000 [==============================] - 1s 79us/step - loss: 3.3936 - acc: 0.7837 - val_loss: 3.7947 - val_acc: 0.7440\n",
      "Epoch 18/30\n",
      "7000/7000 [==============================] - 1s 74us/step - loss: 3.3648 - acc: 0.7867 - val_loss: 3.7972 - val_acc: 0.7470\n",
      "Epoch 19/30\n",
      "7000/7000 [==============================] - 1s 75us/step - loss: 3.3593 - acc: 0.7869 - val_loss: 3.7841 - val_acc: 0.7470\n",
      "Epoch 20/30\n",
      "7000/7000 [==============================] - 1s 76us/step - loss: 3.3492 - acc: 0.7896 - val_loss: 3.7616 - val_acc: 0.7450\n",
      "Epoch 21/30\n",
      "7000/7000 [==============================] - 1s 77us/step - loss: 3.3361 - acc: 0.7904 - val_loss: 3.7717 - val_acc: 0.7437\n",
      "Epoch 22/30\n",
      "7000/7000 [==============================] - 1s 76us/step - loss: 3.3363 - acc: 0.7900 - val_loss: 3.7697 - val_acc: 0.7453\n",
      "Epoch 23/30\n",
      "7000/7000 [==============================] - 1s 76us/step - loss: 3.3286 - acc: 0.7901 - val_loss: 3.8204 - val_acc: 0.7427\n"
     ]
    },
    {
     "data": {
      "image/png": "[encoded data removed]",
      "text/plain": [
       "<Figure size 432x288 with 1 Axes>"
      ]
     },
     "metadata": {
      "needs_background": "light"
     },
     "output_type": "display_data"
    },
    {
     "data": {
      "image/png": "[encoded data removed]",
      "text/plain": [
       "<Figure size 432x288 with 1 Axes>"
      ]
     },
     "metadata": {
      "needs_background": "light"
     },
     "output_type": "display_data"
    }
   ],
   "source": [
    "early_stopping_monitor = EarlyStopping(patience=3)\n",
    "\n",
    "# PyCharm -> model.Sequential()\n",
    "model = Sequential()\n",
    "model.add(Dense(50, activation='relu', input_shape=(784, )))\n",
    "model.add(Dense(50, activation='relu'))\n",
    "model.add(Dense(60, activation='relu'))\n",
    "model.add(Dense(10, activation='softmax'))\n",
    "model.summary()\n",
    "\n",
    "# Compile the model, but first, choose an optimizer\n",
    "optimizer = keras.optimizers.Adam(lr=0.001)\n",
    "# optimizer = keras.optimizers.SGD(lr=0.001, momentum=0.0001, nesterov=True)\n",
    "\n",
    "# Tensorboard callback\n",
    "tb_callback = tf.keras.callbacks.TensorBoard(log_dir='c://DatasRev//TensorBoard//Image_Classifier//', \n",
    "                                histogram_freq=0, batch_size=32, write_graph=True, \n",
    "                                write_grads=False, write_images=False, embeddings_freq=0, \n",
    "                                embeddings_layer_names=None, embeddings_metadata=None, \n",
    "                                embeddings_data=None, update_freq='epoch')\n",
    "\n",
    "model.compile(optimizer=optimizer, loss='categorical_crossentropy', metrics=['accuracy'])\n",
    "\n",
    "# Fit the model\n",
    "history = model.fit(features, encoded, epochs=30, batch_size=150, validation_split=0.3, \n",
    "                    callbacks=[early_stopping_monitor, tb_callback])\n",
    "\n",
    "# Plot the accuracy\n",
    "plt.plot(history.history['acc'])\n",
    "plt.plot(history.history['val_acc'])\n",
    "plt.title('Model accuracy')\n",
    "plt.ylabel('Accuracy')\n",
    "plt.xlabel('Epoch')\n",
    "plt.legend(['Train', 'Test'], loc='upper left')\n",
    "plt.show()\n",
    "\n",
    "# Plot the loss\n",
    "plt.plot(history.history['loss'])\n",
    "plt.plot(history.history['val_loss'])\n",
    "plt.title('Model loss')\n",
    "plt.ylabel('Loss')\n",
    "plt.xlabel('Epoch')\n",
    "plt.legend(['Train', 'Test'], loc='upper left')\n",
    "plt.show()"
   ]
  },
  {
   "cell_type": "code",
   "execution_count": 9,
   "metadata": {},
   "outputs": [
    {
     "name": "stdout",
     "output_type": "stream",
     "text": [
      "2000/2000 [==============================] - 0s 76us/step\n",
      "\n",
      "Test Accuracy: 0.757\n"
     ]
    }
   ],
   "source": [
    "test_loss, test_acc = model.evaluate(features_evaluate, encoded_evaluate)\n",
    "print('\\nTest Accuracy:', test_acc)"
   ]
  },
  {
   "cell_type": "code",
   "execution_count": 10,
   "metadata": {},
   "outputs": [
    {
     "name": "stdout",
     "output_type": "stream",
     "text": [
      "\n",
      "The prediction is: 6\n",
      "And the answer is: 6\n"
     ]
    },
    {
     "data": {
      "image/png": "[encoded data removed]",
      "text/plain": [
       "<Figure size 288x288 with 1 Axes>"
      ]
     },
     "metadata": {
      "needs_background": "light"
     },
     "output_type": "display_data"
    }
   ],
   "source": [
    "# Random számot generálunk az evaluate adat 2000 sorából, így könnyebb léptetni.\n",
    "# TODO: csinálni egy loopot, ami predictel 50 számot, és az eredményeket, és a képeket is kinyomtatja.\n",
    "\n",
    "rand = np.random.randint(0, 2000)\n",
    "rand\n",
    "\n",
    "prediction = model.predict([[features_evaluate.iloc[rand]]])\n",
    "print('\\nThe prediction is:', prediction.argmax())\n",
    "print(\"And the answer is:\", labels_evaluate.iloc[rand])\n",
    "\n",
    "# Itt nem kellett belekeverni a (-1, 28, 28, 1)-et, mert csak két paramétert vár a matshow.\n",
    "plt.matshow(features_evaluate.iloc[rand].values.reshape(28,28))\n",
    "plt.show()"
   ]
  },
  {
   "cell_type": "markdown",
   "metadata": {},
   "source": [
    "## Misc:"
   ]
  },
  {
   "cell_type": "code",
   "execution_count": 11,
   "metadata": {},
   "outputs": [
    {
     "data": {
      "text/html": [
       "<div>\n",
       "<style scoped>\n",
       "    .dataframe tbody tr th:only-of-type {\n",
       "        vertical-align: middle;\n",
       "    }\n",
       "\n",
       "    .dataframe tbody tr th {\n",
       "        vertical-align: top;\n",
       "    }\n",
       "\n",
       "    .dataframe thead th {\n",
       "        text-align: right;\n",
       "    }\n",
       "</style>\n",
       "<table border=\"1\" class=\"dataframe\">\n",
       "  <thead>\n",
       "    <tr style=\"text-align: right;\">\n",
       "      <th></th>\n",
       "      <th>591</th>\n",
       "      <th>592</th>\n",
       "      <th>593</th>\n",
       "      <th>594</th>\n",
       "      <th>595</th>\n",
       "      <th>596</th>\n",
       "      <th>597</th>\n",
       "      <th>598</th>\n",
       "      <th>599</th>\n",
       "      <th>600</th>\n",
       "      <th>601</th>\n",
       "      <th>602</th>\n",
       "      <th>603</th>\n",
       "      <th>604</th>\n",
       "      <th>605</th>\n",
       "      <th>606</th>\n",
       "      <th>607</th>\n",
       "      <th>608</th>\n",
       "      <th>609</th>\n",
       "      <th>610</th>\n",
       "    </tr>\n",
       "  </thead>\n",
       "  <tbody>\n",
       "    <tr>\n",
       "      <th>10000</th>\n",
       "      <td>0</td>\n",
       "      <td>0</td>\n",
       "      <td>0</td>\n",
       "      <td>0</td>\n",
       "      <td>0</td>\n",
       "      <td>0</td>\n",
       "      <td>0</td>\n",
       "      <td>9</td>\n",
       "      <td>124</td>\n",
       "      <td>180</td>\n",
       "      <td>254</td>\n",
       "      <td>242</td>\n",
       "      <td>129</td>\n",
       "      <td>17</td>\n",
       "      <td>0</td>\n",
       "      <td>0</td>\n",
       "      <td>0</td>\n",
       "      <td>0</td>\n",
       "      <td>0</td>\n",
       "      <td>0</td>\n",
       "    </tr>\n",
       "    <tr>\n",
       "      <th>10001</th>\n",
       "      <td>0</td>\n",
       "      <td>0</td>\n",
       "      <td>0</td>\n",
       "      <td>0</td>\n",
       "      <td>0</td>\n",
       "      <td>16</td>\n",
       "      <td>169</td>\n",
       "      <td>212</td>\n",
       "      <td>254</td>\n",
       "      <td>254</td>\n",
       "      <td>254</td>\n",
       "      <td>254</td>\n",
       "      <td>251</td>\n",
       "      <td>126</td>\n",
       "      <td>48</td>\n",
       "      <td>0</td>\n",
       "      <td>0</td>\n",
       "      <td>0</td>\n",
       "      <td>0</td>\n",
       "      <td>0</td>\n",
       "    </tr>\n",
       "  </tbody>\n",
       "</table>\n",
       "</div>"
      ],
      "text/plain": [
       "       591  592  593  594  595  596  597  598  599  600  601  602  603  604  \\\n",
       "10000    0    0    0    0    0    0    0    9  124  180  254  242  129   17   \n",
       "10001    0    0    0    0    0   16  169  212  254  254  254  254  251  126   \n",
       "\n",
       "       605  606  607  608  609  610  \n",
       "10000    0    0    0    0    0    0  \n",
       "10001   48    0    0    0    0    0  "
      ]
     },
     "execution_count": 11,
     "metadata": {},
     "output_type": "execute_result"
    }
   ],
   "source": [
    "# An example how the raw data looks like.\n",
    "\n",
    "features_evaluate.iloc[0:2, 590:610]"
   ]
  },
  {
   "cell_type": "code",
   "execution_count": 12,
   "metadata": {},
   "outputs": [
    {
     "name": "stdout",
     "output_type": "stream",
     "text": [
      "<class 'pandas.core.series.Series'>\n",
      "<class 'list'>\n"
     ]
    }
   ],
   "source": [
    "# For prediction it needs a list, not a Series like model.predict(features_evaluate.iloc[45]).\n",
    "# The difference has printed out.\n",
    "\n",
    "print(type(features_evaluate.iloc[45]))\n",
    "print(type([[features_evaluate.iloc[45]]]))"
   ]
  },
  {
   "cell_type": "code",
   "execution_count": 13,
   "metadata": {},
   "outputs": [
    {
     "data": {
      "image/png": "[encoded data removed]",
      "text/plain": [
       "<Figure size 432x288 with 5 Axes>"
      ]
     },
     "metadata": {
      "needs_background": "light"
     },
     "output_type": "display_data"
    },
    {
     "data": {
      "image/png": "[encoded data removed]",
      "text/plain": [
       "<Figure size 432x288 with 5 Axes>"
      ]
     },
     "metadata": {
      "needs_background": "light"
     },
     "output_type": "display_data"
    },
    {
     "data": {
      "image/png": "[encoded data removed]",
      "text/plain": [
       "<Figure size 432x288 with 5 Axes>"
      ]
     },
     "metadata": {
      "needs_background": "light"
     },
     "output_type": "display_data"
    },
    {
     "data": {
      "image/png": "[encoded data removed]",
      "text/plain": [
       "<Figure size 432x288 with 5 Axes>"
      ]
     },
     "metadata": {
      "needs_background": "light"
     },
     "output_type": "display_data"
    }
   ],
   "source": [
    "# Visalize the prediction. Not the nicest solution, but it works.\n",
    "\n",
    "for i in range(0, 4):\n",
    "    prediction = model.predict([[features_evaluate.iloc[rand]]])  \n",
    "\n",
    "    f, axarr = plt.subplots(1, 5)\n",
    "    f.tight_layout()\n",
    "        \n",
    "    rand = np.random.randint(0, 2000)\n",
    "    prediction = model.predict([[features_evaluate.iloc[rand]]])\n",
    "    axarr[0].set(xlabel=prediction.argmax())\n",
    "    axarr[0].imshow(features_evaluate.iloc[rand].values.reshape(28,28))\n",
    "    \n",
    "    rand = np.random.randint(0, 2000)\n",
    "    prediction = model.predict([[features_evaluate.iloc[rand]]])\n",
    "    axarr[1].set(xlabel=prediction.argmax())\n",
    "    axarr[1].imshow(features_evaluate.iloc[rand].values.reshape(28,28))\n",
    "    \n",
    "    rand = np.random.randint(0, 2000)\n",
    "    prediction = model.predict([[features_evaluate.iloc[rand]]])\n",
    "    axarr[2].set(xlabel=prediction.argmax())\n",
    "    axarr[2].imshow(features_evaluate.iloc[rand].values.reshape(28,28))\n",
    "    \n",
    "    rand = np.random.randint(0, 2000)\n",
    "    prediction = model.predict([[features_evaluate.iloc[rand]]])\n",
    "    axarr[3].set(xlabel=prediction.argmax())\n",
    "    axarr[3].imshow(features_evaluate.iloc[rand].values.reshape(28,28))\n",
    "   \n",
    "    rand = np.random.randint(0, 2000)\n",
    "    prediction = model.predict([[features_evaluate.iloc[rand]]])\n",
    "    axarr[4].set(xlabel=prediction.argmax())\n",
    "    axarr[4].imshow(features_evaluate.iloc[rand].values.reshape(28,28))\n",
    "\n",
    "    plt.show()"
   ]
  },
  {
   "cell_type": "code",
   "execution_count": 14,
   "metadata": {},
   "outputs": [
    {
     "data": {
      "text/plain": [
       "Reusing TensorBoard on port 6006 (pid 15720), started 3:08:46 ago. (Use '!kill 15720' to kill it.)"
      ]
     },
     "metadata": {},
     "output_type": "display_data"
    },
    {
     "data": {
      "text/html": [
       "\n",
       "        <iframe\n",
       "            width=\"100%\"\n",
       "            height=\"600\"\n",
       "            src=\"http://localhost:6006\"\n",
       "            frameborder=\"0\"\n",
       "            allowfullscreen\n",
       "        ></iframe>\n",
       "        "
      ],
      "text/plain": [
       "<IPython.lib.display.IFrame at 0x262bbc875f8>"
      ]
     },
     "metadata": {},
     "output_type": "display_data"
    }
   ],
   "source": [
    "# TensorBoard load, and show\n",
    "\n",
    "%load_ext tensorboard.notebook\n",
    "%tensorboard --logdir 'c://DatasRev//TensorBoard//Image_Classifier//'"
   ]
  }
 ],
 "metadata": {
  "kernelspec": {
   "display_name": "Python 3",
   "language": "python",
   "name": "python3"
  },
  "language_info": {
   "codemirror_mode": {
    "name": "ipython",
    "version": 3
   },
   "file_extension": ".py",
   "mimetype": "text/x-python",
   "name": "python",
   "nbconvert_exporter": "python",
   "pygments_lexer": "ipython3",
   "version": "3.7.3"
  }
 },
 "nbformat": 4,
 "nbformat_minor": 2
}
